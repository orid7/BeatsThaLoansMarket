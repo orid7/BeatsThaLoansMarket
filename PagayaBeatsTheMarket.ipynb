{
  "nbformat": 4,
  "nbformat_minor": 0,
  "metadata": {
    "colab": {
      "name": "PagayaBeatsTheMarket.ipynb",
      "provenance": [],
      "authorship_tag": "ABX9TyPB1OGIn6em8k8ULnMDY43Y",
      "include_colab_link": true
    },
    "kernelspec": {
      "name": "python3",
      "display_name": "Python 3"
    }
  },
  "cells": [
    {
      "cell_type": "markdown",
      "metadata": {
        "id": "view-in-github",
        "colab_type": "text"
      },
      "source": [
        "<a href=\"https://colab.research.google.com/github/orid7/BeatsThaLoansMarket/blob/master/PagayaBeatsTheMarket.ipynb\" target=\"_parent\"><img src=\"https://colab.research.google.com/assets/colab-badge.svg\" alt=\"Open In Colab\"/></a>"
      ]
    },
    {
      "cell_type": "markdown",
      "metadata": {
        "id": "CWYllIG86nZj",
        "colab_type": "text"
      },
      "source": [
        "# **Home Assignment**\n",
        "**Ori** **Dahari**\n",
        "\n",
        "\n",
        "# intro\n",
        "In this notebook, I'll be discovering the comparison between Pagaya's loan portfolio VS Market loan portfolio. The Data contained loans that Issued in the first quarter of 2016.\n",
        "\n",
        "**The main Data features are:**\n",
        "* ListingNumber - ID of each loan\n",
        "* LoanAmount\n",
        "* BorrowerRate - Annual interest\n",
        "* OriginationDate\n",
        "* CycleCounter -The Month number from loan issue\n",
        "* PrincipalPaid \n",
        "* InterestPaid\n",
        "* CumulCO - The loss if exist\n",
        "* pagaya - Pagaya bought the loan? True/False\n",
        "\n",
        "\n",
        "**The steps that I'm going to do in this notebook:**\n",
        "1. **Create Loans Data set**- I'll build a data set so that each row will contain the summary values of a Loan. The new features are: \n",
        "* **Calculate the real return** -For each loan, I'll calculate the Irr (Internal rate of return)\n",
        "* **Annualized returns** - Convert the Irr to Annualized\n",
        "* **failed loan**- does the loan failed? True/False\n",
        "2. **build loans Portfolio** - Group of loans for the comparison:\n",
        "* **Pagaya portfolio** - Loans that Pagaya bought\n",
        "* **Market portfolio** - All the loans\n",
        "* **HigeBorrowerRate** - Loans with the highest annual interest rate(top 25%)\n",
        "* **LowBorrowerRate** - Loans with the lowest annual interest rate(bottom 25%)\n",
        "* **Random50%** - 50% of the loans that selected randomly\n",
        "* **Random10%** - 10% of the loans that selected randomly\n",
        "\n",
        "3. **Comparison table** - I'll create a comperison table of all the portfolios and a summary features that will help to compare the portfolios.\n",
        "\n",
        "*  **NumberOfLoans** - Number of loans in the portfolio\n",
        "*  **MeanAnnualizedReturn**\n",
        "*  **Std, Min, Max**\n",
        "*  **SharpeRatio**\n",
        "*  **NumOfLoansFailed, LoansFailedRatio**\n",
        "\n",
        "\n"
      ]
    },
    {
      "cell_type": "code",
      "metadata": {
        "id": "QC-FqFN0y1G_",
        "colab_type": "code",
        "colab": {
          "base_uri": "https://localhost:8080/",
          "height": 52
        },
        "outputId": "7a160ba9-86da-4596-b8e9-8959d066277d"
      },
      "source": [
        "import io\n",
        "import pandas as pd\n",
        "import numpy as np\n",
        "import matplotlib.pyplot as plt\n",
        "%matplotlib inline\n",
        "import seaborn as sns"
      ],
      "execution_count": 1,
      "outputs": [
        {
          "output_type": "stream",
          "text": [
            "/usr/local/lib/python3.6/dist-packages/statsmodels/tools/_testing.py:19: FutureWarning: pandas.util.testing is deprecated. Use the functions in the public API at pandas.testing instead.\n",
            "  import pandas.util.testing as tm\n"
          ],
          "name": "stderr"
        }
      ]
    },
    {
      "cell_type": "markdown",
      "metadata": {
        "id": "PQOEvIhyL7_x",
        "colab_type": "text"
      },
      "source": [
        "# Acquiring the data into Pandas DataFrames\n",
        "(Uploading the data from local system)\n"
      ]
    },
    {
      "cell_type": "code",
      "metadata": {
        "id": "wbzrCjS_xkaz",
        "colab_type": "code",
        "colab": {
          "resources": {
            "http://localhost:8080/nbextensions/google.colab/files.js": {
              "data": "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",
              "ok": true,
              "headers": [
                [
                  "content-type",
                  "application/javascript"
                ]
              ],
              "status": 200,
              "status_text": ""
            }
          },
          "base_uri": "https://localhost:8080/",
          "height": 93
        },
        "outputId": "e222ae26-ac19-41df-bf94-b01677a2a1ed"
      },
      "source": [
        "from google.colab import files\n",
        "\n",
        "uploaded = files.upload()\n",
        "\n",
        "for fn in uploaded.keys():\n",
        "  print('User uploaded file \"{name}\" with length {length} bytes'.format(\n",
        "      name=fn, length=len(uploaded[fn])))"
      ],
      "execution_count": 2,
      "outputs": [
        {
          "output_type": "display_data",
          "data": {
            "text/html": [
              "\n",
              "     <input type=\"file\" id=\"files-b965afbf-68b6-4a7a-9bf2-39da61d3809f\" name=\"files[]\" multiple disabled />\n",
              "     <output id=\"result-b965afbf-68b6-4a7a-9bf2-39da61d3809f\">\n",
              "      Upload widget is only available when the cell has been executed in the\n",
              "      current browser session. Please rerun this cell to enable.\n",
              "      </output>\n",
              "      <script src=\"/nbextensions/google.colab/files.js\"></script> "
            ],
            "text/plain": [
              "<IPython.core.display.HTML object>"
            ]
          },
          "metadata": {
            "tags": []
          }
        },
        {
          "output_type": "stream",
          "text": [
            "Saving pagaya_2016_sample_loans.csv to pagaya_2016_sample_loans.csv\n",
            "User uploaded file \"pagaya_2016_sample_loans.csv\" with length 207813308 bytes\n"
          ],
          "name": "stdout"
        }
      ]
    },
    {
      "cell_type": "code",
      "metadata": {
        "id": "4DCWWsIsR01Z",
        "colab_type": "code",
        "colab": {}
      },
      "source": [
        "df = pd.read_csv(io.BytesIO(uploaded['pagaya_2016_sample_loans.csv']))"
      ],
      "execution_count": 0,
      "outputs": []
    },
    {
      "cell_type": "markdown",
      "metadata": {
        "id": "hI3N_TYIMKyC",
        "colab_type": "text"
      },
      "source": [
        "\n",
        "# Preview the data\n",
        "\n"
      ]
    },
    {
      "cell_type": "code",
      "metadata": {
        "id": "16HD1YrLcA9e",
        "colab_type": "code",
        "colab": {
          "base_uri": "https://localhost:8080/",
          "height": 347
        },
        "outputId": "b8b712ef-6b2b-41c2-c7f9-04c46c62fb3d"
      },
      "source": [
        "df.head(10)"
      ],
      "execution_count": 4,
      "outputs": [
        {
          "output_type": "execute_result",
          "data": {
            "text/html": [
              "<div>\n",
              "<style scoped>\n",
              "    .dataframe tbody tr th:only-of-type {\n",
              "        vertical-align: middle;\n",
              "    }\n",
              "\n",
              "    .dataframe tbody tr th {\n",
              "        vertical-align: top;\n",
              "    }\n",
              "\n",
              "    .dataframe thead th {\n",
              "        text-align: right;\n",
              "    }\n",
              "</style>\n",
              "<table border=\"1\" class=\"dataframe\">\n",
              "  <thead>\n",
              "    <tr style=\"text-align: right;\">\n",
              "      <th></th>\n",
              "      <th>ListingNumber</th>\n",
              "      <th>LoanAmount</th>\n",
              "      <th>BorrowerRate</th>\n",
              "      <th>OriginationDate</th>\n",
              "      <th>OrigMID</th>\n",
              "      <th>ObservationMonth</th>\n",
              "      <th>CycleCounter</th>\n",
              "      <th>DaysPastDue_EOM</th>\n",
              "      <th>PrincipalPaid</th>\n",
              "      <th>InterestPaid</th>\n",
              "      <th>CumulCO</th>\n",
              "      <th>BOMPrin</th>\n",
              "      <th>BOMPrinAdjusted</th>\n",
              "      <th>EOMPrin</th>\n",
              "      <th>EOMPrinAdjusted</th>\n",
              "      <th>MargPrinCO</th>\n",
              "      <th>pagaya</th>\n",
              "    </tr>\n",
              "  </thead>\n",
              "  <tbody>\n",
              "    <tr>\n",
              "      <th>0</th>\n",
              "      <td>3431926</td>\n",
              "      <td>6001.0</td>\n",
              "      <td>0.1704</td>\n",
              "      <td>2016-01-11</td>\n",
              "      <td>201601</td>\n",
              "      <td>201601</td>\n",
              "      <td>0</td>\n",
              "      <td>0</td>\n",
              "      <td>0.00</td>\n",
              "      <td>0.00</td>\n",
              "      <td>0.0</td>\n",
              "      <td>6001.00</td>\n",
              "      <td>6001.00</td>\n",
              "      <td>6001.00</td>\n",
              "      <td>6001.00</td>\n",
              "      <td>0.0</td>\n",
              "      <td>False</td>\n",
              "    </tr>\n",
              "    <tr>\n",
              "      <th>1</th>\n",
              "      <td>3431926</td>\n",
              "      <td>6001.0</td>\n",
              "      <td>0.1704</td>\n",
              "      <td>2016-01-11</td>\n",
              "      <td>201601</td>\n",
              "      <td>201602</td>\n",
              "      <td>1</td>\n",
              "      <td>0</td>\n",
              "      <td>127.22</td>\n",
              "      <td>86.85</td>\n",
              "      <td>0.0</td>\n",
              "      <td>6001.00</td>\n",
              "      <td>6001.00</td>\n",
              "      <td>5873.78</td>\n",
              "      <td>5873.78</td>\n",
              "      <td>0.0</td>\n",
              "      <td>False</td>\n",
              "    </tr>\n",
              "    <tr>\n",
              "      <th>2</th>\n",
              "      <td>3431926</td>\n",
              "      <td>6001.0</td>\n",
              "      <td>0.1704</td>\n",
              "      <td>2016-01-11</td>\n",
              "      <td>201601</td>\n",
              "      <td>201603</td>\n",
              "      <td>2</td>\n",
              "      <td>0</td>\n",
              "      <td>107.13</td>\n",
              "      <td>106.94</td>\n",
              "      <td>0.0</td>\n",
              "      <td>5873.78</td>\n",
              "      <td>5873.78</td>\n",
              "      <td>5766.65</td>\n",
              "      <td>5766.65</td>\n",
              "      <td>0.0</td>\n",
              "      <td>False</td>\n",
              "    </tr>\n",
              "    <tr>\n",
              "      <th>3</th>\n",
              "      <td>3431926</td>\n",
              "      <td>6001.0</td>\n",
              "      <td>0.1704</td>\n",
              "      <td>2016-01-11</td>\n",
              "      <td>201601</td>\n",
              "      <td>201604</td>\n",
              "      <td>3</td>\n",
              "      <td>0</td>\n",
              "      <td>157.53</td>\n",
              "      <td>56.54</td>\n",
              "      <td>0.0</td>\n",
              "      <td>5766.65</td>\n",
              "      <td>5766.65</td>\n",
              "      <td>5609.12</td>\n",
              "      <td>5609.12</td>\n",
              "      <td>0.0</td>\n",
              "      <td>False</td>\n",
              "    </tr>\n",
              "    <tr>\n",
              "      <th>4</th>\n",
              "      <td>3431926</td>\n",
              "      <td>6001.0</td>\n",
              "      <td>0.1704</td>\n",
              "      <td>2016-01-11</td>\n",
              "      <td>201601</td>\n",
              "      <td>201605</td>\n",
              "      <td>4</td>\n",
              "      <td>0</td>\n",
              "      <td>122.42</td>\n",
              "      <td>91.65</td>\n",
              "      <td>0.0</td>\n",
              "      <td>5609.12</td>\n",
              "      <td>5609.12</td>\n",
              "      <td>5486.70</td>\n",
              "      <td>5486.70</td>\n",
              "      <td>0.0</td>\n",
              "      <td>False</td>\n",
              "    </tr>\n",
              "    <tr>\n",
              "      <th>5</th>\n",
              "      <td>3431926</td>\n",
              "      <td>6001.0</td>\n",
              "      <td>0.1704</td>\n",
              "      <td>2016-01-11</td>\n",
              "      <td>201601</td>\n",
              "      <td>201606</td>\n",
              "      <td>5</td>\n",
              "      <td>0</td>\n",
              "      <td>121.86</td>\n",
              "      <td>92.21</td>\n",
              "      <td>0.0</td>\n",
              "      <td>5486.70</td>\n",
              "      <td>5486.70</td>\n",
              "      <td>5364.84</td>\n",
              "      <td>5364.84</td>\n",
              "      <td>0.0</td>\n",
              "      <td>False</td>\n",
              "    </tr>\n",
              "    <tr>\n",
              "      <th>6</th>\n",
              "      <td>3431926</td>\n",
              "      <td>6001.0</td>\n",
              "      <td>0.1704</td>\n",
              "      <td>2016-01-11</td>\n",
              "      <td>201601</td>\n",
              "      <td>201607</td>\n",
              "      <td>6</td>\n",
              "      <td>0</td>\n",
              "      <td>133.92</td>\n",
              "      <td>80.15</td>\n",
              "      <td>0.0</td>\n",
              "      <td>5364.84</td>\n",
              "      <td>5364.84</td>\n",
              "      <td>5230.92</td>\n",
              "      <td>5230.92</td>\n",
              "      <td>0.0</td>\n",
              "      <td>False</td>\n",
              "    </tr>\n",
              "    <tr>\n",
              "      <th>7</th>\n",
              "      <td>3431926</td>\n",
              "      <td>6001.0</td>\n",
              "      <td>0.1704</td>\n",
              "      <td>2016-01-11</td>\n",
              "      <td>201601</td>\n",
              "      <td>201608</td>\n",
              "      <td>7</td>\n",
              "      <td>0</td>\n",
              "      <td>140.81</td>\n",
              "      <td>73.26</td>\n",
              "      <td>0.0</td>\n",
              "      <td>5230.92</td>\n",
              "      <td>5230.92</td>\n",
              "      <td>5090.11</td>\n",
              "      <td>5090.11</td>\n",
              "      <td>0.0</td>\n",
              "      <td>False</td>\n",
              "    </tr>\n",
              "    <tr>\n",
              "      <th>8</th>\n",
              "      <td>3431926</td>\n",
              "      <td>6001.0</td>\n",
              "      <td>0.1704</td>\n",
              "      <td>2016-01-11</td>\n",
              "      <td>201601</td>\n",
              "      <td>201609</td>\n",
              "      <td>8</td>\n",
              "      <td>0</td>\n",
              "      <td>138.03</td>\n",
              "      <td>76.04</td>\n",
              "      <td>0.0</td>\n",
              "      <td>5090.11</td>\n",
              "      <td>5090.11</td>\n",
              "      <td>4952.08</td>\n",
              "      <td>4952.08</td>\n",
              "      <td>0.0</td>\n",
              "      <td>False</td>\n",
              "    </tr>\n",
              "    <tr>\n",
              "      <th>9</th>\n",
              "      <td>3431926</td>\n",
              "      <td>6001.0</td>\n",
              "      <td>0.1704</td>\n",
              "      <td>2016-01-11</td>\n",
              "      <td>201601</td>\n",
              "      <td>201610</td>\n",
              "      <td>9</td>\n",
              "      <td>20</td>\n",
              "      <td>40.09</td>\n",
              "      <td>73.98</td>\n",
              "      <td>0.0</td>\n",
              "      <td>4952.08</td>\n",
              "      <td>4952.08</td>\n",
              "      <td>4911.99</td>\n",
              "      <td>4911.99</td>\n",
              "      <td>0.0</td>\n",
              "      <td>False</td>\n",
              "    </tr>\n",
              "  </tbody>\n",
              "</table>\n",
              "</div>"
            ],
            "text/plain": [
              "   ListingNumber  LoanAmount  BorrowerRate  ... EOMPrinAdjusted  MargPrinCO  pagaya\n",
              "0        3431926      6001.0        0.1704  ...         6001.00         0.0   False\n",
              "1        3431926      6001.0        0.1704  ...         5873.78         0.0   False\n",
              "2        3431926      6001.0        0.1704  ...         5766.65         0.0   False\n",
              "3        3431926      6001.0        0.1704  ...         5609.12         0.0   False\n",
              "4        3431926      6001.0        0.1704  ...         5486.70         0.0   False\n",
              "5        3431926      6001.0        0.1704  ...         5364.84         0.0   False\n",
              "6        3431926      6001.0        0.1704  ...         5230.92         0.0   False\n",
              "7        3431926      6001.0        0.1704  ...         5090.11         0.0   False\n",
              "8        3431926      6001.0        0.1704  ...         4952.08         0.0   False\n",
              "9        3431926      6001.0        0.1704  ...         4911.99         0.0   False\n",
              "\n",
              "[10 rows x 17 columns]"
            ]
          },
          "metadata": {
            "tags": []
          },
          "execution_count": 4
        }
      ]
    },
    {
      "cell_type": "markdown",
      "metadata": {
        "id": "cWWzHudLO5vm",
        "colab_type": "text"
      },
      "source": [
        "# First step create Loans Data set- building a data set so that each row will contain the summary values of a Loan\n",
        "\n",
        "In order to calculate the IRR, I need the total cash flow of each loan.\n",
        "Creating a new feature that contain the value of monthly cash flow."
      ]
    },
    {
      "cell_type": "code",
      "metadata": {
        "id": "uopbiUJacBTh",
        "colab_type": "code",
        "colab": {}
      },
      "source": [
        "#function that calculate the total returns(cash flow), for the first month of the loan the cash flow is the negative of loan amount.\n",
        "def TotalReturns(dff):\n",
        "       if dff.CycleCounter==0 : \n",
        "        return dff.LoanAmount*-1\n",
        "       else:\n",
        "         return dff.PrincipalPaid+dff.InterestPaid"
      ],
      "execution_count": 0,
      "outputs": []
    },
    {
      "cell_type": "code",
      "metadata": {
        "id": "HPEsxJOOdJL9",
        "colab_type": "code",
        "colab": {}
      },
      "source": [
        "#apply the function on all the data rows\n",
        "df['TotalMonthlyReturns']=df.apply(TotalReturns, axis=1)"
      ],
      "execution_count": 0,
      "outputs": []
    },
    {
      "cell_type": "code",
      "metadata": {
        "id": "3oELq1AYdJXe",
        "colab_type": "code",
        "colab": {
          "base_uri": "https://localhost:8080/",
          "height": 347
        },
        "outputId": "f142c77d-263d-4d11-9eba-ea9baf6f2f88"
      },
      "source": [
        "df.head(10)"
      ],
      "execution_count": 7,
      "outputs": [
        {
          "output_type": "execute_result",
          "data": {
            "text/html": [
              "<div>\n",
              "<style scoped>\n",
              "    .dataframe tbody tr th:only-of-type {\n",
              "        vertical-align: middle;\n",
              "    }\n",
              "\n",
              "    .dataframe tbody tr th {\n",
              "        vertical-align: top;\n",
              "    }\n",
              "\n",
              "    .dataframe thead th {\n",
              "        text-align: right;\n",
              "    }\n",
              "</style>\n",
              "<table border=\"1\" class=\"dataframe\">\n",
              "  <thead>\n",
              "    <tr style=\"text-align: right;\">\n",
              "      <th></th>\n",
              "      <th>ListingNumber</th>\n",
              "      <th>LoanAmount</th>\n",
              "      <th>BorrowerRate</th>\n",
              "      <th>OriginationDate</th>\n",
              "      <th>OrigMID</th>\n",
              "      <th>ObservationMonth</th>\n",
              "      <th>CycleCounter</th>\n",
              "      <th>DaysPastDue_EOM</th>\n",
              "      <th>PrincipalPaid</th>\n",
              "      <th>InterestPaid</th>\n",
              "      <th>CumulCO</th>\n",
              "      <th>BOMPrin</th>\n",
              "      <th>BOMPrinAdjusted</th>\n",
              "      <th>EOMPrin</th>\n",
              "      <th>EOMPrinAdjusted</th>\n",
              "      <th>MargPrinCO</th>\n",
              "      <th>pagaya</th>\n",
              "      <th>TotalMonthlyReturns</th>\n",
              "    </tr>\n",
              "  </thead>\n",
              "  <tbody>\n",
              "    <tr>\n",
              "      <th>0</th>\n",
              "      <td>3431926</td>\n",
              "      <td>6001.0</td>\n",
              "      <td>0.1704</td>\n",
              "      <td>2016-01-11</td>\n",
              "      <td>201601</td>\n",
              "      <td>201601</td>\n",
              "      <td>0</td>\n",
              "      <td>0</td>\n",
              "      <td>0.00</td>\n",
              "      <td>0.00</td>\n",
              "      <td>0.0</td>\n",
              "      <td>6001.00</td>\n",
              "      <td>6001.00</td>\n",
              "      <td>6001.00</td>\n",
              "      <td>6001.00</td>\n",
              "      <td>0.0</td>\n",
              "      <td>False</td>\n",
              "      <td>-6001.00</td>\n",
              "    </tr>\n",
              "    <tr>\n",
              "      <th>1</th>\n",
              "      <td>3431926</td>\n",
              "      <td>6001.0</td>\n",
              "      <td>0.1704</td>\n",
              "      <td>2016-01-11</td>\n",
              "      <td>201601</td>\n",
              "      <td>201602</td>\n",
              "      <td>1</td>\n",
              "      <td>0</td>\n",
              "      <td>127.22</td>\n",
              "      <td>86.85</td>\n",
              "      <td>0.0</td>\n",
              "      <td>6001.00</td>\n",
              "      <td>6001.00</td>\n",
              "      <td>5873.78</td>\n",
              "      <td>5873.78</td>\n",
              "      <td>0.0</td>\n",
              "      <td>False</td>\n",
              "      <td>214.07</td>\n",
              "    </tr>\n",
              "    <tr>\n",
              "      <th>2</th>\n",
              "      <td>3431926</td>\n",
              "      <td>6001.0</td>\n",
              "      <td>0.1704</td>\n",
              "      <td>2016-01-11</td>\n",
              "      <td>201601</td>\n",
              "      <td>201603</td>\n",
              "      <td>2</td>\n",
              "      <td>0</td>\n",
              "      <td>107.13</td>\n",
              "      <td>106.94</td>\n",
              "      <td>0.0</td>\n",
              "      <td>5873.78</td>\n",
              "      <td>5873.78</td>\n",
              "      <td>5766.65</td>\n",
              "      <td>5766.65</td>\n",
              "      <td>0.0</td>\n",
              "      <td>False</td>\n",
              "      <td>214.07</td>\n",
              "    </tr>\n",
              "    <tr>\n",
              "      <th>3</th>\n",
              "      <td>3431926</td>\n",
              "      <td>6001.0</td>\n",
              "      <td>0.1704</td>\n",
              "      <td>2016-01-11</td>\n",
              "      <td>201601</td>\n",
              "      <td>201604</td>\n",
              "      <td>3</td>\n",
              "      <td>0</td>\n",
              "      <td>157.53</td>\n",
              "      <td>56.54</td>\n",
              "      <td>0.0</td>\n",
              "      <td>5766.65</td>\n",
              "      <td>5766.65</td>\n",
              "      <td>5609.12</td>\n",
              "      <td>5609.12</td>\n",
              "      <td>0.0</td>\n",
              "      <td>False</td>\n",
              "      <td>214.07</td>\n",
              "    </tr>\n",
              "    <tr>\n",
              "      <th>4</th>\n",
              "      <td>3431926</td>\n",
              "      <td>6001.0</td>\n",
              "      <td>0.1704</td>\n",
              "      <td>2016-01-11</td>\n",
              "      <td>201601</td>\n",
              "      <td>201605</td>\n",
              "      <td>4</td>\n",
              "      <td>0</td>\n",
              "      <td>122.42</td>\n",
              "      <td>91.65</td>\n",
              "      <td>0.0</td>\n",
              "      <td>5609.12</td>\n",
              "      <td>5609.12</td>\n",
              "      <td>5486.70</td>\n",
              "      <td>5486.70</td>\n",
              "      <td>0.0</td>\n",
              "      <td>False</td>\n",
              "      <td>214.07</td>\n",
              "    </tr>\n",
              "    <tr>\n",
              "      <th>5</th>\n",
              "      <td>3431926</td>\n",
              "      <td>6001.0</td>\n",
              "      <td>0.1704</td>\n",
              "      <td>2016-01-11</td>\n",
              "      <td>201601</td>\n",
              "      <td>201606</td>\n",
              "      <td>5</td>\n",
              "      <td>0</td>\n",
              "      <td>121.86</td>\n",
              "      <td>92.21</td>\n",
              "      <td>0.0</td>\n",
              "      <td>5486.70</td>\n",
              "      <td>5486.70</td>\n",
              "      <td>5364.84</td>\n",
              "      <td>5364.84</td>\n",
              "      <td>0.0</td>\n",
              "      <td>False</td>\n",
              "      <td>214.07</td>\n",
              "    </tr>\n",
              "    <tr>\n",
              "      <th>6</th>\n",
              "      <td>3431926</td>\n",
              "      <td>6001.0</td>\n",
              "      <td>0.1704</td>\n",
              "      <td>2016-01-11</td>\n",
              "      <td>201601</td>\n",
              "      <td>201607</td>\n",
              "      <td>6</td>\n",
              "      <td>0</td>\n",
              "      <td>133.92</td>\n",
              "      <td>80.15</td>\n",
              "      <td>0.0</td>\n",
              "      <td>5364.84</td>\n",
              "      <td>5364.84</td>\n",
              "      <td>5230.92</td>\n",
              "      <td>5230.92</td>\n",
              "      <td>0.0</td>\n",
              "      <td>False</td>\n",
              "      <td>214.07</td>\n",
              "    </tr>\n",
              "    <tr>\n",
              "      <th>7</th>\n",
              "      <td>3431926</td>\n",
              "      <td>6001.0</td>\n",
              "      <td>0.1704</td>\n",
              "      <td>2016-01-11</td>\n",
              "      <td>201601</td>\n",
              "      <td>201608</td>\n",
              "      <td>7</td>\n",
              "      <td>0</td>\n",
              "      <td>140.81</td>\n",
              "      <td>73.26</td>\n",
              "      <td>0.0</td>\n",
              "      <td>5230.92</td>\n",
              "      <td>5230.92</td>\n",
              "      <td>5090.11</td>\n",
              "      <td>5090.11</td>\n",
              "      <td>0.0</td>\n",
              "      <td>False</td>\n",
              "      <td>214.07</td>\n",
              "    </tr>\n",
              "    <tr>\n",
              "      <th>8</th>\n",
              "      <td>3431926</td>\n",
              "      <td>6001.0</td>\n",
              "      <td>0.1704</td>\n",
              "      <td>2016-01-11</td>\n",
              "      <td>201601</td>\n",
              "      <td>201609</td>\n",
              "      <td>8</td>\n",
              "      <td>0</td>\n",
              "      <td>138.03</td>\n",
              "      <td>76.04</td>\n",
              "      <td>0.0</td>\n",
              "      <td>5090.11</td>\n",
              "      <td>5090.11</td>\n",
              "      <td>4952.08</td>\n",
              "      <td>4952.08</td>\n",
              "      <td>0.0</td>\n",
              "      <td>False</td>\n",
              "      <td>214.07</td>\n",
              "    </tr>\n",
              "    <tr>\n",
              "      <th>9</th>\n",
              "      <td>3431926</td>\n",
              "      <td>6001.0</td>\n",
              "      <td>0.1704</td>\n",
              "      <td>2016-01-11</td>\n",
              "      <td>201601</td>\n",
              "      <td>201610</td>\n",
              "      <td>9</td>\n",
              "      <td>20</td>\n",
              "      <td>40.09</td>\n",
              "      <td>73.98</td>\n",
              "      <td>0.0</td>\n",
              "      <td>4952.08</td>\n",
              "      <td>4952.08</td>\n",
              "      <td>4911.99</td>\n",
              "      <td>4911.99</td>\n",
              "      <td>0.0</td>\n",
              "      <td>False</td>\n",
              "      <td>114.07</td>\n",
              "    </tr>\n",
              "  </tbody>\n",
              "</table>\n",
              "</div>"
            ],
            "text/plain": [
              "   ListingNumber  LoanAmount  ...  pagaya TotalMonthlyReturns\n",
              "0        3431926      6001.0  ...   False            -6001.00\n",
              "1        3431926      6001.0  ...   False              214.07\n",
              "2        3431926      6001.0  ...   False              214.07\n",
              "3        3431926      6001.0  ...   False              214.07\n",
              "4        3431926      6001.0  ...   False              214.07\n",
              "5        3431926      6001.0  ...   False              214.07\n",
              "6        3431926      6001.0  ...   False              214.07\n",
              "7        3431926      6001.0  ...   False              214.07\n",
              "8        3431926      6001.0  ...   False              214.07\n",
              "9        3431926      6001.0  ...   False              114.07\n",
              "\n",
              "[10 rows x 18 columns]"
            ]
          },
          "metadata": {
            "tags": []
          },
          "execution_count": 7
        }
      ]
    },
    {
      "cell_type": "markdown",
      "metadata": {
        "id": "7mcz6_P8Q-HX",
        "colab_type": "text"
      },
      "source": [
        "# Next step, creating the summary loan data:"
      ]
    },
    {
      "cell_type": "code",
      "metadata": {
        "id": "TAQ15jzVdJ_T",
        "colab_type": "code",
        "colab": {}
      },
      "source": [
        "LoanDf=df.groupby('ListingNumber').first().reset_index()"
      ],
      "execution_count": 0,
      "outputs": []
    },
    {
      "cell_type": "code",
      "metadata": {
        "id": "nbDlOt3UfEMG",
        "colab_type": "code",
        "colab": {
          "base_uri": "https://localhost:8080/",
          "height": 197
        },
        "outputId": "9230e750-b2c6-42cd-c69b-e08998944692"
      },
      "source": [
        "LoanDf.head()"
      ],
      "execution_count": 9,
      "outputs": [
        {
          "output_type": "execute_result",
          "data": {
            "text/html": [
              "<div>\n",
              "<style scoped>\n",
              "    .dataframe tbody tr th:only-of-type {\n",
              "        vertical-align: middle;\n",
              "    }\n",
              "\n",
              "    .dataframe tbody tr th {\n",
              "        vertical-align: top;\n",
              "    }\n",
              "\n",
              "    .dataframe thead th {\n",
              "        text-align: right;\n",
              "    }\n",
              "</style>\n",
              "<table border=\"1\" class=\"dataframe\">\n",
              "  <thead>\n",
              "    <tr style=\"text-align: right;\">\n",
              "      <th></th>\n",
              "      <th>ListingNumber</th>\n",
              "      <th>LoanAmount</th>\n",
              "      <th>BorrowerRate</th>\n",
              "      <th>OriginationDate</th>\n",
              "      <th>OrigMID</th>\n",
              "      <th>ObservationMonth</th>\n",
              "      <th>CycleCounter</th>\n",
              "      <th>DaysPastDue_EOM</th>\n",
              "      <th>PrincipalPaid</th>\n",
              "      <th>InterestPaid</th>\n",
              "      <th>CumulCO</th>\n",
              "      <th>BOMPrin</th>\n",
              "      <th>BOMPrinAdjusted</th>\n",
              "      <th>EOMPrin</th>\n",
              "      <th>EOMPrinAdjusted</th>\n",
              "      <th>MargPrinCO</th>\n",
              "      <th>pagaya</th>\n",
              "      <th>TotalMonthlyReturns</th>\n",
              "    </tr>\n",
              "  </thead>\n",
              "  <tbody>\n",
              "    <tr>\n",
              "      <th>0</th>\n",
              "      <td>3431926</td>\n",
              "      <td>6001.0</td>\n",
              "      <td>0.1704</td>\n",
              "      <td>2016-01-11</td>\n",
              "      <td>201601</td>\n",
              "      <td>201601</td>\n",
              "      <td>0</td>\n",
              "      <td>0</td>\n",
              "      <td>0.0</td>\n",
              "      <td>0.0</td>\n",
              "      <td>0.0</td>\n",
              "      <td>6001.0</td>\n",
              "      <td>6001.0</td>\n",
              "      <td>6001.0</td>\n",
              "      <td>6001.0</td>\n",
              "      <td>0.0</td>\n",
              "      <td>False</td>\n",
              "      <td>-6001.0</td>\n",
              "    </tr>\n",
              "    <tr>\n",
              "      <th>1</th>\n",
              "      <td>3708902</td>\n",
              "      <td>15000.0</td>\n",
              "      <td>0.0631</td>\n",
              "      <td>2016-01-06</td>\n",
              "      <td>201601</td>\n",
              "      <td>201601</td>\n",
              "      <td>0</td>\n",
              "      <td>0</td>\n",
              "      <td>0.0</td>\n",
              "      <td>0.0</td>\n",
              "      <td>0.0</td>\n",
              "      <td>15000.0</td>\n",
              "      <td>15000.0</td>\n",
              "      <td>15000.0</td>\n",
              "      <td>15000.0</td>\n",
              "      <td>0.0</td>\n",
              "      <td>False</td>\n",
              "      <td>-15000.0</td>\n",
              "    </tr>\n",
              "    <tr>\n",
              "      <th>2</th>\n",
              "      <td>3810389</td>\n",
              "      <td>8000.0</td>\n",
              "      <td>0.1446</td>\n",
              "      <td>2016-01-20</td>\n",
              "      <td>201601</td>\n",
              "      <td>201601</td>\n",
              "      <td>0</td>\n",
              "      <td>0</td>\n",
              "      <td>0.0</td>\n",
              "      <td>0.0</td>\n",
              "      <td>0.0</td>\n",
              "      <td>8000.0</td>\n",
              "      <td>8000.0</td>\n",
              "      <td>8000.0</td>\n",
              "      <td>8000.0</td>\n",
              "      <td>0.0</td>\n",
              "      <td>False</td>\n",
              "      <td>-8000.0</td>\n",
              "    </tr>\n",
              "    <tr>\n",
              "      <th>3</th>\n",
              "      <td>3813029</td>\n",
              "      <td>15000.0</td>\n",
              "      <td>0.2161</td>\n",
              "      <td>2016-01-28</td>\n",
              "      <td>201601</td>\n",
              "      <td>201601</td>\n",
              "      <td>0</td>\n",
              "      <td>0</td>\n",
              "      <td>0.0</td>\n",
              "      <td>0.0</td>\n",
              "      <td>0.0</td>\n",
              "      <td>15000.0</td>\n",
              "      <td>15000.0</td>\n",
              "      <td>15000.0</td>\n",
              "      <td>15000.0</td>\n",
              "      <td>0.0</td>\n",
              "      <td>False</td>\n",
              "      <td>-15000.0</td>\n",
              "    </tr>\n",
              "    <tr>\n",
              "      <th>4</th>\n",
              "      <td>3840084</td>\n",
              "      <td>6000.0</td>\n",
              "      <td>0.1371</td>\n",
              "      <td>2016-02-04</td>\n",
              "      <td>201602</td>\n",
              "      <td>201602</td>\n",
              "      <td>0</td>\n",
              "      <td>0</td>\n",
              "      <td>0.0</td>\n",
              "      <td>0.0</td>\n",
              "      <td>0.0</td>\n",
              "      <td>6000.0</td>\n",
              "      <td>6000.0</td>\n",
              "      <td>6000.0</td>\n",
              "      <td>6000.0</td>\n",
              "      <td>0.0</td>\n",
              "      <td>False</td>\n",
              "      <td>-6000.0</td>\n",
              "    </tr>\n",
              "  </tbody>\n",
              "</table>\n",
              "</div>"
            ],
            "text/plain": [
              "   ListingNumber  LoanAmount  ...  pagaya TotalMonthlyReturns\n",
              "0        3431926      6001.0  ...   False             -6001.0\n",
              "1        3708902     15000.0  ...   False            -15000.0\n",
              "2        3810389      8000.0  ...   False             -8000.0\n",
              "3        3813029     15000.0  ...   False            -15000.0\n",
              "4        3840084      6000.0  ...   False             -6000.0\n",
              "\n",
              "[5 rows x 18 columns]"
            ]
          },
          "metadata": {
            "tags": []
          },
          "execution_count": 9
        }
      ]
    },
    {
      "cell_type": "code",
      "metadata": {
        "id": "ws4QPKRxfXuH",
        "colab_type": "code",
        "colab": {
          "base_uri": "https://localhost:8080/",
          "height": 197
        },
        "outputId": "65234535-dc1c-44c1-91de-c4305438fb27"
      },
      "source": [
        "#Droping the columns that i dont need for the comparison later\n",
        "LoanDf=LoanDf.drop(columns=['OrigMID', 'ObservationMonth','CycleCounter','DaysPastDue_EOM','PrincipalPaid','InterestPaid','CumulCO','BOMPrin','BOMPrinAdjusted','EOMPrin','EOMPrinAdjusted','MargPrinCO','TotalMonthlyReturns'])\n",
        "LoanDf.head()"
      ],
      "execution_count": 10,
      "outputs": [
        {
          "output_type": "execute_result",
          "data": {
            "text/html": [
              "<div>\n",
              "<style scoped>\n",
              "    .dataframe tbody tr th:only-of-type {\n",
              "        vertical-align: middle;\n",
              "    }\n",
              "\n",
              "    .dataframe tbody tr th {\n",
              "        vertical-align: top;\n",
              "    }\n",
              "\n",
              "    .dataframe thead th {\n",
              "        text-align: right;\n",
              "    }\n",
              "</style>\n",
              "<table border=\"1\" class=\"dataframe\">\n",
              "  <thead>\n",
              "    <tr style=\"text-align: right;\">\n",
              "      <th></th>\n",
              "      <th>ListingNumber</th>\n",
              "      <th>LoanAmount</th>\n",
              "      <th>BorrowerRate</th>\n",
              "      <th>OriginationDate</th>\n",
              "      <th>pagaya</th>\n",
              "    </tr>\n",
              "  </thead>\n",
              "  <tbody>\n",
              "    <tr>\n",
              "      <th>0</th>\n",
              "      <td>3431926</td>\n",
              "      <td>6001.0</td>\n",
              "      <td>0.1704</td>\n",
              "      <td>2016-01-11</td>\n",
              "      <td>False</td>\n",
              "    </tr>\n",
              "    <tr>\n",
              "      <th>1</th>\n",
              "      <td>3708902</td>\n",
              "      <td>15000.0</td>\n",
              "      <td>0.0631</td>\n",
              "      <td>2016-01-06</td>\n",
              "      <td>False</td>\n",
              "    </tr>\n",
              "    <tr>\n",
              "      <th>2</th>\n",
              "      <td>3810389</td>\n",
              "      <td>8000.0</td>\n",
              "      <td>0.1446</td>\n",
              "      <td>2016-01-20</td>\n",
              "      <td>False</td>\n",
              "    </tr>\n",
              "    <tr>\n",
              "      <th>3</th>\n",
              "      <td>3813029</td>\n",
              "      <td>15000.0</td>\n",
              "      <td>0.2161</td>\n",
              "      <td>2016-01-28</td>\n",
              "      <td>False</td>\n",
              "    </tr>\n",
              "    <tr>\n",
              "      <th>4</th>\n",
              "      <td>3840084</td>\n",
              "      <td>6000.0</td>\n",
              "      <td>0.1371</td>\n",
              "      <td>2016-02-04</td>\n",
              "      <td>False</td>\n",
              "    </tr>\n",
              "  </tbody>\n",
              "</table>\n",
              "</div>"
            ],
            "text/plain": [
              "   ListingNumber  LoanAmount  BorrowerRate OriginationDate  pagaya\n",
              "0        3431926      6001.0        0.1704      2016-01-11   False\n",
              "1        3708902     15000.0        0.0631      2016-01-06   False\n",
              "2        3810389      8000.0        0.1446      2016-01-20   False\n",
              "3        3813029     15000.0        0.2161      2016-01-28   False\n",
              "4        3840084      6000.0        0.1371      2016-02-04   False"
            ]
          },
          "metadata": {
            "tags": []
          },
          "execution_count": 10
        }
      ]
    },
    {
      "cell_type": "markdown",
      "metadata": {
        "id": "B2BGaaufRcrY",
        "colab_type": "text"
      },
      "source": [
        "## Calculate the IRR of the loans:"
      ]
    },
    {
      "cell_type": "code",
      "metadata": {
        "id": "2zZ1OQGbgdBu",
        "colab_type": "code",
        "colab": {}
      },
      "source": [
        "#Function that get a loan and return the irr by using the cash flow\n",
        "def CalculateIRR(dff):\n",
        "       CashFlow=df.loc[df['ListingNumber'] == dff.ListingNumber]\n",
        "       irr = np.irr(CashFlow[\"TotalMonthlyReturns\"])\n",
        "       return irr"
      ],
      "execution_count": 0,
      "outputs": []
    },
    {
      "cell_type": "code",
      "metadata": {
        "id": "_0WdCNmljEBJ",
        "colab_type": "code",
        "colab": {
          "base_uri": "https://localhost:8080/",
          "height": 233
        },
        "outputId": "140859c7-fd4f-4c0c-a5d0-482f15ce967d"
      },
      "source": [
        "#apply the function on all the loans in the data\n",
        "LoanDf['Irr']=LoanDf.apply(CalculateIRR, axis=1)\n",
        "LoanDf.head()"
      ],
      "execution_count": 12,
      "outputs": [
        {
          "output_type": "stream",
          "text": [
            "/usr/local/lib/python3.6/dist-packages/ipykernel_launcher.py:3: DeprecationWarning: numpy.irr is deprecated and will be removed from NumPy 1.20. Use numpy_financial.irr instead (https://pypi.org/project/numpy-financial/).\n",
            "  This is separate from the ipykernel package so we can avoid doing imports until\n"
          ],
          "name": "stderr"
        },
        {
          "output_type": "execute_result",
          "data": {
            "text/html": [
              "<div>\n",
              "<style scoped>\n",
              "    .dataframe tbody tr th:only-of-type {\n",
              "        vertical-align: middle;\n",
              "    }\n",
              "\n",
              "    .dataframe tbody tr th {\n",
              "        vertical-align: top;\n",
              "    }\n",
              "\n",
              "    .dataframe thead th {\n",
              "        text-align: right;\n",
              "    }\n",
              "</style>\n",
              "<table border=\"1\" class=\"dataframe\">\n",
              "  <thead>\n",
              "    <tr style=\"text-align: right;\">\n",
              "      <th></th>\n",
              "      <th>ListingNumber</th>\n",
              "      <th>LoanAmount</th>\n",
              "      <th>BorrowerRate</th>\n",
              "      <th>OriginationDate</th>\n",
              "      <th>pagaya</th>\n",
              "      <th>Irr</th>\n",
              "    </tr>\n",
              "  </thead>\n",
              "  <tbody>\n",
              "    <tr>\n",
              "      <th>0</th>\n",
              "      <td>3431926</td>\n",
              "      <td>6001.0</td>\n",
              "      <td>0.1704</td>\n",
              "      <td>2016-01-11</td>\n",
              "      <td>False</td>\n",
              "      <td>0.007152</td>\n",
              "    </tr>\n",
              "    <tr>\n",
              "      <th>1</th>\n",
              "      <td>3708902</td>\n",
              "      <td>15000.0</td>\n",
              "      <td>0.0631</td>\n",
              "      <td>2016-01-06</td>\n",
              "      <td>False</td>\n",
              "      <td>0.005268</td>\n",
              "    </tr>\n",
              "    <tr>\n",
              "      <th>2</th>\n",
              "      <td>3810389</td>\n",
              "      <td>8000.0</td>\n",
              "      <td>0.1446</td>\n",
              "      <td>2016-01-20</td>\n",
              "      <td>False</td>\n",
              "      <td>0.011680</td>\n",
              "    </tr>\n",
              "    <tr>\n",
              "      <th>3</th>\n",
              "      <td>3813029</td>\n",
              "      <td>15000.0</td>\n",
              "      <td>0.2161</td>\n",
              "      <td>2016-01-28</td>\n",
              "      <td>False</td>\n",
              "      <td>-0.029582</td>\n",
              "    </tr>\n",
              "    <tr>\n",
              "      <th>4</th>\n",
              "      <td>3840084</td>\n",
              "      <td>6000.0</td>\n",
              "      <td>0.1371</td>\n",
              "      <td>2016-02-04</td>\n",
              "      <td>False</td>\n",
              "      <td>0.011416</td>\n",
              "    </tr>\n",
              "  </tbody>\n",
              "</table>\n",
              "</div>"
            ],
            "text/plain": [
              "   ListingNumber  LoanAmount  BorrowerRate OriginationDate  pagaya       Irr\n",
              "0        3431926      6001.0        0.1704      2016-01-11   False  0.007152\n",
              "1        3708902     15000.0        0.0631      2016-01-06   False  0.005268\n",
              "2        3810389      8000.0        0.1446      2016-01-20   False  0.011680\n",
              "3        3813029     15000.0        0.2161      2016-01-28   False -0.029582\n",
              "4        3840084      6000.0        0.1371      2016-02-04   False  0.011416"
            ]
          },
          "metadata": {
            "tags": []
          },
          "execution_count": 12
        }
      ]
    },
    {
      "cell_type": "code",
      "metadata": {
        "id": "exSalDBEl0J6",
        "colab_type": "code",
        "colab": {
          "base_uri": "https://localhost:8080/",
          "height": 197
        },
        "outputId": "7850d71c-ed36-4995-93b0-9c7dd4071ee5"
      },
      "source": [
        "#convering the irr to Effective Annual Interest Rate\n",
        "LoanDf['AnnualIrr']=(LoanDf.Irr+1) ** (12) - 1\n",
        "LoanDf.head()"
      ],
      "execution_count": 13,
      "outputs": [
        {
          "output_type": "execute_result",
          "data": {
            "text/html": [
              "<div>\n",
              "<style scoped>\n",
              "    .dataframe tbody tr th:only-of-type {\n",
              "        vertical-align: middle;\n",
              "    }\n",
              "\n",
              "    .dataframe tbody tr th {\n",
              "        vertical-align: top;\n",
              "    }\n",
              "\n",
              "    .dataframe thead th {\n",
              "        text-align: right;\n",
              "    }\n",
              "</style>\n",
              "<table border=\"1\" class=\"dataframe\">\n",
              "  <thead>\n",
              "    <tr style=\"text-align: right;\">\n",
              "      <th></th>\n",
              "      <th>ListingNumber</th>\n",
              "      <th>LoanAmount</th>\n",
              "      <th>BorrowerRate</th>\n",
              "      <th>OriginationDate</th>\n",
              "      <th>pagaya</th>\n",
              "      <th>Irr</th>\n",
              "      <th>AnnualIrr</th>\n",
              "    </tr>\n",
              "  </thead>\n",
              "  <tbody>\n",
              "    <tr>\n",
              "      <th>0</th>\n",
              "      <td>3431926</td>\n",
              "      <td>6001.0</td>\n",
              "      <td>0.1704</td>\n",
              "      <td>2016-01-11</td>\n",
              "      <td>False</td>\n",
              "      <td>0.007152</td>\n",
              "      <td>0.089278</td>\n",
              "    </tr>\n",
              "    <tr>\n",
              "      <th>1</th>\n",
              "      <td>3708902</td>\n",
              "      <td>15000.0</td>\n",
              "      <td>0.0631</td>\n",
              "      <td>2016-01-06</td>\n",
              "      <td>False</td>\n",
              "      <td>0.005268</td>\n",
              "      <td>0.065083</td>\n",
              "    </tr>\n",
              "    <tr>\n",
              "      <th>2</th>\n",
              "      <td>3810389</td>\n",
              "      <td>8000.0</td>\n",
              "      <td>0.1446</td>\n",
              "      <td>2016-01-20</td>\n",
              "      <td>False</td>\n",
              "      <td>0.011680</td>\n",
              "      <td>0.149529</td>\n",
              "    </tr>\n",
              "    <tr>\n",
              "      <th>3</th>\n",
              "      <td>3813029</td>\n",
              "      <td>15000.0</td>\n",
              "      <td>0.2161</td>\n",
              "      <td>2016-01-28</td>\n",
              "      <td>False</td>\n",
              "      <td>-0.029582</td>\n",
              "      <td>-0.302557</td>\n",
              "    </tr>\n",
              "    <tr>\n",
              "      <th>4</th>\n",
              "      <td>3840084</td>\n",
              "      <td>6000.0</td>\n",
              "      <td>0.1371</td>\n",
              "      <td>2016-02-04</td>\n",
              "      <td>False</td>\n",
              "      <td>0.011416</td>\n",
              "      <td>0.145933</td>\n",
              "    </tr>\n",
              "  </tbody>\n",
              "</table>\n",
              "</div>"
            ],
            "text/plain": [
              "   ListingNumber  LoanAmount  BorrowerRate  ... pagaya       Irr  AnnualIrr\n",
              "0        3431926      6001.0        0.1704  ...  False  0.007152   0.089278\n",
              "1        3708902     15000.0        0.0631  ...  False  0.005268   0.065083\n",
              "2        3810389      8000.0        0.1446  ...  False  0.011680   0.149529\n",
              "3        3813029     15000.0        0.2161  ...  False -0.029582  -0.302557\n",
              "4        3840084      6000.0        0.1371  ...  False  0.011416   0.145933\n",
              "\n",
              "[5 rows x 7 columns]"
            ]
          },
          "metadata": {
            "tags": []
          },
          "execution_count": 13
        }
      ]
    },
    {
      "cell_type": "markdown",
      "metadata": {
        "id": "dR9zSWztSjyn",
        "colab_type": "text"
      },
      "source": [
        "# Creating a feature that will present if the loan Failed\n",
        "If any loss exist the loan failed (True if faild)"
      ]
    },
    {
      "cell_type": "code",
      "metadata": {
        "id": "WrTxdFvekaUM",
        "colab_type": "code",
        "colab": {}
      },
      "source": [
        "#Funtion return true if there is any loss until the loan fully returned\n",
        "def LoanFailed(dff):\n",
        "       CumulCOList=df.loc[df['ListingNumber'] == dff.ListingNumber]\n",
        "       return np.sum(CumulCOList[\"CumulCO\"]) != 0"
      ],
      "execution_count": 0,
      "outputs": []
    },
    {
      "cell_type": "code",
      "metadata": {
        "id": "TB1NLnfsPXR9",
        "colab_type": "code",
        "colab": {
          "base_uri": "https://localhost:8080/",
          "height": 197
        },
        "outputId": "950cfe99-a090-4c0a-9e66-a696d7cb8b83"
      },
      "source": [
        "#apply the function on all the loans\n",
        "LoanDf['LoanFailed']=LoanDf.apply(LoanFailed, axis=1)\n",
        "LoanDf.head()"
      ],
      "execution_count": 15,
      "outputs": [
        {
          "output_type": "execute_result",
          "data": {
            "text/html": [
              "<div>\n",
              "<style scoped>\n",
              "    .dataframe tbody tr th:only-of-type {\n",
              "        vertical-align: middle;\n",
              "    }\n",
              "\n",
              "    .dataframe tbody tr th {\n",
              "        vertical-align: top;\n",
              "    }\n",
              "\n",
              "    .dataframe thead th {\n",
              "        text-align: right;\n",
              "    }\n",
              "</style>\n",
              "<table border=\"1\" class=\"dataframe\">\n",
              "  <thead>\n",
              "    <tr style=\"text-align: right;\">\n",
              "      <th></th>\n",
              "      <th>ListingNumber</th>\n",
              "      <th>LoanAmount</th>\n",
              "      <th>BorrowerRate</th>\n",
              "      <th>OriginationDate</th>\n",
              "      <th>pagaya</th>\n",
              "      <th>Irr</th>\n",
              "      <th>AnnualIrr</th>\n",
              "      <th>LoanFailed</th>\n",
              "    </tr>\n",
              "  </thead>\n",
              "  <tbody>\n",
              "    <tr>\n",
              "      <th>0</th>\n",
              "      <td>3431926</td>\n",
              "      <td>6001.0</td>\n",
              "      <td>0.1704</td>\n",
              "      <td>2016-01-11</td>\n",
              "      <td>False</td>\n",
              "      <td>0.007152</td>\n",
              "      <td>0.089278</td>\n",
              "      <td>False</td>\n",
              "    </tr>\n",
              "    <tr>\n",
              "      <th>1</th>\n",
              "      <td>3708902</td>\n",
              "      <td>15000.0</td>\n",
              "      <td>0.0631</td>\n",
              "      <td>2016-01-06</td>\n",
              "      <td>False</td>\n",
              "      <td>0.005268</td>\n",
              "      <td>0.065083</td>\n",
              "      <td>False</td>\n",
              "    </tr>\n",
              "    <tr>\n",
              "      <th>2</th>\n",
              "      <td>3810389</td>\n",
              "      <td>8000.0</td>\n",
              "      <td>0.1446</td>\n",
              "      <td>2016-01-20</td>\n",
              "      <td>False</td>\n",
              "      <td>0.011680</td>\n",
              "      <td>0.149529</td>\n",
              "      <td>False</td>\n",
              "    </tr>\n",
              "    <tr>\n",
              "      <th>3</th>\n",
              "      <td>3813029</td>\n",
              "      <td>15000.0</td>\n",
              "      <td>0.2161</td>\n",
              "      <td>2016-01-28</td>\n",
              "      <td>False</td>\n",
              "      <td>-0.029582</td>\n",
              "      <td>-0.302557</td>\n",
              "      <td>True</td>\n",
              "    </tr>\n",
              "    <tr>\n",
              "      <th>4</th>\n",
              "      <td>3840084</td>\n",
              "      <td>6000.0</td>\n",
              "      <td>0.1371</td>\n",
              "      <td>2016-02-04</td>\n",
              "      <td>False</td>\n",
              "      <td>0.011416</td>\n",
              "      <td>0.145933</td>\n",
              "      <td>False</td>\n",
              "    </tr>\n",
              "  </tbody>\n",
              "</table>\n",
              "</div>"
            ],
            "text/plain": [
              "   ListingNumber  LoanAmount  BorrowerRate  ...       Irr  AnnualIrr  LoanFailed\n",
              "0        3431926      6001.0        0.1704  ...  0.007152   0.089278       False\n",
              "1        3708902     15000.0        0.0631  ...  0.005268   0.065083       False\n",
              "2        3810389      8000.0        0.1446  ...  0.011680   0.149529       False\n",
              "3        3813029     15000.0        0.2161  ... -0.029582  -0.302557        True\n",
              "4        3840084      6000.0        0.1371  ...  0.011416   0.145933       False\n",
              "\n",
              "[5 rows x 8 columns]"
            ]
          },
          "metadata": {
            "tags": []
          },
          "execution_count": 15
        }
      ]
    },
    {
      "cell_type": "markdown",
      "metadata": {
        "id": "MHmHrF1lUTby",
        "colab_type": "text"
      },
      "source": [
        "# Analyze by describing data"
      ]
    },
    {
      "cell_type": "code",
      "metadata": {
        "id": "WCet6yc9n78u",
        "colab_type": "code",
        "colab": {
          "base_uri": "https://localhost:8080/",
          "height": 287
        },
        "outputId": "69a5cec9-7eb7-4988-b887-3b99f35bb09b"
      },
      "source": [
        "LoanDf.describe()"
      ],
      "execution_count": 16,
      "outputs": [
        {
          "output_type": "execute_result",
          "data": {
            "text/html": [
              "<div>\n",
              "<style scoped>\n",
              "    .dataframe tbody tr th:only-of-type {\n",
              "        vertical-align: middle;\n",
              "    }\n",
              "\n",
              "    .dataframe tbody tr th {\n",
              "        vertical-align: top;\n",
              "    }\n",
              "\n",
              "    .dataframe thead th {\n",
              "        text-align: right;\n",
              "    }\n",
              "</style>\n",
              "<table border=\"1\" class=\"dataframe\">\n",
              "  <thead>\n",
              "    <tr style=\"text-align: right;\">\n",
              "      <th></th>\n",
              "      <th>ListingNumber</th>\n",
              "      <th>LoanAmount</th>\n",
              "      <th>BorrowerRate</th>\n",
              "      <th>Irr</th>\n",
              "      <th>AnnualIrr</th>\n",
              "    </tr>\n",
              "  </thead>\n",
              "  <tbody>\n",
              "    <tr>\n",
              "      <th>count</th>\n",
              "      <td>5.073300e+04</td>\n",
              "      <td>50733.000000</td>\n",
              "      <td>50733.000000</td>\n",
              "      <td>50428.000000</td>\n",
              "      <td>50428.000000</td>\n",
              "    </tr>\n",
              "    <tr>\n",
              "      <th>mean</th>\n",
              "      <td>4.561297e+06</td>\n",
              "      <td>12990.073485</td>\n",
              "      <td>0.133371</td>\n",
              "      <td>-0.020394</td>\n",
              "      <td>0.008799</td>\n",
              "    </tr>\n",
              "    <tr>\n",
              "      <th>std</th>\n",
              "      <td>1.906327e+05</td>\n",
              "      <td>7805.442082</td>\n",
              "      <td>0.061160</td>\n",
              "      <td>0.112738</td>\n",
              "      <td>0.313435</td>\n",
              "    </tr>\n",
              "    <tr>\n",
              "      <th>min</th>\n",
              "      <td>3.431926e+06</td>\n",
              "      <td>2000.000000</td>\n",
              "      <td>0.053200</td>\n",
              "      <td>-0.999223</td>\n",
              "      <td>-1.000000</td>\n",
              "    </tr>\n",
              "    <tr>\n",
              "      <th>25%</th>\n",
              "      <td>4.431386e+06</td>\n",
              "      <td>7000.000000</td>\n",
              "      <td>0.088000</td>\n",
              "      <td>0.005568</td>\n",
              "      <td>0.068895</td>\n",
              "    </tr>\n",
              "    <tr>\n",
              "      <th>50%</th>\n",
              "      <td>4.561528e+06</td>\n",
              "      <td>11800.000000</td>\n",
              "      <td>0.116800</td>\n",
              "      <td>0.008082</td>\n",
              "      <td>0.101412</td>\n",
              "    </tr>\n",
              "    <tr>\n",
              "      <th>75%</th>\n",
              "      <td>4.700860e+06</td>\n",
              "      <td>16000.000000</td>\n",
              "      <td>0.159700</td>\n",
              "      <td>0.011438</td>\n",
              "      <td>0.146231</td>\n",
              "    </tr>\n",
              "    <tr>\n",
              "      <th>max</th>\n",
              "      <td>4.953963e+06</td>\n",
              "      <td>35000.000000</td>\n",
              "      <td>0.312500</td>\n",
              "      <td>0.039170</td>\n",
              "      <td>0.585766</td>\n",
              "    </tr>\n",
              "  </tbody>\n",
              "</table>\n",
              "</div>"
            ],
            "text/plain": [
              "       ListingNumber    LoanAmount  BorrowerRate           Irr     AnnualIrr\n",
              "count   5.073300e+04  50733.000000  50733.000000  50428.000000  50428.000000\n",
              "mean    4.561297e+06  12990.073485      0.133371     -0.020394      0.008799\n",
              "std     1.906327e+05   7805.442082      0.061160      0.112738      0.313435\n",
              "min     3.431926e+06   2000.000000      0.053200     -0.999223     -1.000000\n",
              "25%     4.431386e+06   7000.000000      0.088000      0.005568      0.068895\n",
              "50%     4.561528e+06  11800.000000      0.116800      0.008082      0.101412\n",
              "75%     4.700860e+06  16000.000000      0.159700      0.011438      0.146231\n",
              "max     4.953963e+06  35000.000000      0.312500      0.039170      0.585766"
            ]
          },
          "metadata": {
            "tags": []
          },
          "execution_count": 16
        }
      ]
    },
    {
      "cell_type": "markdown",
      "metadata": {
        "id": "J1Qo47SbUZd9",
        "colab_type": "text"
      },
      "source": [
        "This describing present the results of Market Portfolio.\n",
        "I'll use some values from this table for the comparison:\n",
        "\n",
        "\n",
        "*   Mean Annualrr - benchmark of loans market returns \n",
        "*   75% AnnualIrr- HigeBorrowerRate - Loans with the highest annual interest rate(top 25%)\n",
        "*   25% AnnualIrr - LowBorrowerRate - Loans with the lowest annual interest rate(bottom 25%)\n",
        "\n"
      ]
    },
    {
      "cell_type": "markdown",
      "metadata": {
        "id": "zg26_pKoVzPK",
        "colab_type": "text"
      },
      "source": [
        "# Decribing the stats only for the loans that Pagaya bought:"
      ]
    },
    {
      "cell_type": "code",
      "metadata": {
        "id": "Jwp4i2N2o0Yt",
        "colab_type": "code",
        "colab": {
          "base_uri": "https://localhost:8080/",
          "height": 287
        },
        "outputId": "ca0043ba-18d6-4dec-e4d7-1afe0752b147"
      },
      "source": [
        "LoanDf[LoanDf['pagaya'] == True].describe()"
      ],
      "execution_count": 17,
      "outputs": [
        {
          "output_type": "execute_result",
          "data": {
            "text/html": [
              "<div>\n",
              "<style scoped>\n",
              "    .dataframe tbody tr th:only-of-type {\n",
              "        vertical-align: middle;\n",
              "    }\n",
              "\n",
              "    .dataframe tbody tr th {\n",
              "        vertical-align: top;\n",
              "    }\n",
              "\n",
              "    .dataframe thead th {\n",
              "        text-align: right;\n",
              "    }\n",
              "</style>\n",
              "<table border=\"1\" class=\"dataframe\">\n",
              "  <thead>\n",
              "    <tr style=\"text-align: right;\">\n",
              "      <th></th>\n",
              "      <th>ListingNumber</th>\n",
              "      <th>LoanAmount</th>\n",
              "      <th>BorrowerRate</th>\n",
              "      <th>Irr</th>\n",
              "      <th>AnnualIrr</th>\n",
              "    </tr>\n",
              "  </thead>\n",
              "  <tbody>\n",
              "    <tr>\n",
              "      <th>count</th>\n",
              "      <td>3.509000e+03</td>\n",
              "      <td>3509.000000</td>\n",
              "      <td>3509.000000</td>\n",
              "      <td>3492.000000</td>\n",
              "      <td>3492.000000</td>\n",
              "    </tr>\n",
              "    <tr>\n",
              "      <th>mean</th>\n",
              "      <td>4.577540e+06</td>\n",
              "      <td>12758.347677</td>\n",
              "      <td>0.134911</td>\n",
              "      <td>-0.013363</td>\n",
              "      <td>0.029800</td>\n",
              "    </tr>\n",
              "    <tr>\n",
              "      <th>std</th>\n",
              "      <td>1.850769e+05</td>\n",
              "      <td>7573.344773</td>\n",
              "      <td>0.061382</td>\n",
              "      <td>0.096124</td>\n",
              "      <td>0.288784</td>\n",
              "    </tr>\n",
              "    <tr>\n",
              "      <th>min</th>\n",
              "      <td>3.871127e+06</td>\n",
              "      <td>2000.000000</td>\n",
              "      <td>0.053200</td>\n",
              "      <td>-0.967502</td>\n",
              "      <td>-1.000000</td>\n",
              "    </tr>\n",
              "    <tr>\n",
              "      <th>25%</th>\n",
              "      <td>4.449771e+06</td>\n",
              "      <td>7000.000000</td>\n",
              "      <td>0.088000</td>\n",
              "      <td>0.005797</td>\n",
              "      <td>0.071827</td>\n",
              "    </tr>\n",
              "    <tr>\n",
              "      <th>50%</th>\n",
              "      <td>4.577674e+06</td>\n",
              "      <td>11000.000000</td>\n",
              "      <td>0.120000</td>\n",
              "      <td>0.008378</td>\n",
              "      <td>0.105299</td>\n",
              "    </tr>\n",
              "    <tr>\n",
              "      <th>75%</th>\n",
              "      <td>4.716991e+06</td>\n",
              "      <td>15000.000000</td>\n",
              "      <td>0.164000</td>\n",
              "      <td>0.011845</td>\n",
              "      <td>0.151777</td>\n",
              "    </tr>\n",
              "    <tr>\n",
              "      <th>max</th>\n",
              "      <td>4.951428e+06</td>\n",
              "      <td>35000.000000</td>\n",
              "      <td>0.312500</td>\n",
              "      <td>0.031206</td>\n",
              "      <td>0.445923</td>\n",
              "    </tr>\n",
              "  </tbody>\n",
              "</table>\n",
              "</div>"
            ],
            "text/plain": [
              "       ListingNumber    LoanAmount  BorrowerRate          Irr    AnnualIrr\n",
              "count   3.509000e+03   3509.000000   3509.000000  3492.000000  3492.000000\n",
              "mean    4.577540e+06  12758.347677      0.134911    -0.013363     0.029800\n",
              "std     1.850769e+05   7573.344773      0.061382     0.096124     0.288784\n",
              "min     3.871127e+06   2000.000000      0.053200    -0.967502    -1.000000\n",
              "25%     4.449771e+06   7000.000000      0.088000     0.005797     0.071827\n",
              "50%     4.577674e+06  11000.000000      0.120000     0.008378     0.105299\n",
              "75%     4.716991e+06  15000.000000      0.164000     0.011845     0.151777\n",
              "max     4.951428e+06  35000.000000      0.312500     0.031206     0.445923"
            ]
          },
          "metadata": {
            "tags": []
          },
          "execution_count": 17
        }
      ]
    },
    {
      "cell_type": "markdown",
      "metadata": {
        "id": "Bg_JWAsnWLrE",
        "colab_type": "text"
      },
      "source": [
        "This simple analysis confirms that the annual returns of Pagaya portfolio are higher then Market portfolio. Furthermore, also the risk (std) of Pagaya portfolio is lower then Market portfolio.\n",
        "**Full comparison later in the notebook.**"
      ]
    },
    {
      "cell_type": "markdown",
      "metadata": {
        "id": "MthZDciGXjAU",
        "colab_type": "text"
      },
      "source": [
        "# Next step, building a Comparison table of all the portfolios and a summary features that will help to compare the portfolios."
      ]
    },
    {
      "cell_type": "code",
      "metadata": {
        "id": "KCKG_OOLpOju",
        "colab_type": "code",
        "colab": {}
      },
      "source": [
        "#function that return all the summary stats of a selected portfolio\n",
        "def CalculateStat(dff,Rmarket):\n",
        "       NumberOfLoans=len(dff)\n",
        "       MeanAnnualizedReturn=dff.AnnualIrr.mean()\n",
        "       Std=dff.AnnualIrr.std()\n",
        "       Min=dff.AnnualIrr.min()\n",
        "       Max=dff.AnnualIrr.max()\n",
        "       SharpeRatio=(MeanAnnualizedReturn-Rmarket)/Std\n",
        "       NumOfLoansFailed=dff.LoanFailed.sum()\n",
        "       LoansFailedRatio=NumOfLoansFailed/NumberOfLoans\n",
        "       return NumberOfLoans, MeanAnnualizedReturn, Std, Min, Max, SharpeRatio, NumOfLoansFailed, LoansFailedRatio"
      ],
      "execution_count": 0,
      "outputs": []
    },
    {
      "cell_type": "code",
      "metadata": {
        "id": "TgDPxkJyrWrC",
        "colab_type": "code",
        "colab": {
          "base_uri": "https://localhost:8080/",
          "height": 47
        },
        "outputId": "64262684-6952-4784-f331-67cb536ed2ca"
      },
      "source": [
        "#create the dataframe of the comparison table\n",
        "CompDf=pd.DataFrame(columns = ['PortfolioName', 'NumberOfLoans','MeanAnnualizedReturn','Std','Min','Max','SharpeRatio','NumOfLoansFailed','LoansFailedRatio'])\n",
        "CompDf"
      ],
      "execution_count": 19,
      "outputs": [
        {
          "output_type": "execute_result",
          "data": {
            "text/html": [
              "<div>\n",
              "<style scoped>\n",
              "    .dataframe tbody tr th:only-of-type {\n",
              "        vertical-align: middle;\n",
              "    }\n",
              "\n",
              "    .dataframe tbody tr th {\n",
              "        vertical-align: top;\n",
              "    }\n",
              "\n",
              "    .dataframe thead th {\n",
              "        text-align: right;\n",
              "    }\n",
              "</style>\n",
              "<table border=\"1\" class=\"dataframe\">\n",
              "  <thead>\n",
              "    <tr style=\"text-align: right;\">\n",
              "      <th></th>\n",
              "      <th>PortfolioName</th>\n",
              "      <th>NumberOfLoans</th>\n",
              "      <th>MeanAnnualizedReturn</th>\n",
              "      <th>Std</th>\n",
              "      <th>Min</th>\n",
              "      <th>Max</th>\n",
              "      <th>SharpeRatio</th>\n",
              "      <th>NumOfLoansFailed</th>\n",
              "      <th>LoansFailedRatio</th>\n",
              "    </tr>\n",
              "  </thead>\n",
              "  <tbody>\n",
              "  </tbody>\n",
              "</table>\n",
              "</div>"
            ],
            "text/plain": [
              "Empty DataFrame\n",
              "Columns: [PortfolioName, NumberOfLoans, MeanAnnualizedReturn, Std, Min, Max, SharpeRatio, NumOfLoansFailed, LoansFailedRatio]\n",
              "Index: []"
            ]
          },
          "metadata": {
            "tags": []
          },
          "execution_count": 19
        }
      ]
    },
    {
      "cell_type": "code",
      "metadata": {
        "id": "puOkgwvtwv0V",
        "colab_type": "code",
        "colab": {}
      },
      "source": [
        "#Mean Annualrr - benchmark of loans market returns\n",
        "Rmarket=LoanDf.AnnualIrr.mean()"
      ],
      "execution_count": 0,
      "outputs": []
    },
    {
      "cell_type": "markdown",
      "metadata": {
        "id": "DTns0Ts_YZNz",
        "colab_type": "text"
      },
      "source": [
        "# Pagaya portfolio:"
      ]
    },
    {
      "cell_type": "code",
      "metadata": {
        "id": "kQrQIfmYs9ji",
        "colab_type": "code",
        "colab": {
          "base_uri": "https://localhost:8080/",
          "height": 77
        },
        "outputId": "ad7df6b0-3108-4ed0-c612-7bc0ce9f6357"
      },
      "source": [
        "PortfolioDf=LoanDf[LoanDf['pagaya'] == True]\n",
        "NumberOfLoans, MeanAnnualizedReturn, Std, Min, Max, SharpeRatio, NumOfLoansFailed, LoansFailedRatio = CalculateStat(PortfolioDf,Rmarket)\n",
        "CompDf=CompDf.append(pd.Series(['Pagaya',NumberOfLoans, MeanAnnualizedReturn, Std, Min, Max, SharpeRatio, NumOfLoansFailed, LoansFailedRatio], index=CompDf.columns), ignore_index=True)\n",
        "CompDf"
      ],
      "execution_count": 21,
      "outputs": [
        {
          "output_type": "execute_result",
          "data": {
            "text/html": [
              "<div>\n",
              "<style scoped>\n",
              "    .dataframe tbody tr th:only-of-type {\n",
              "        vertical-align: middle;\n",
              "    }\n",
              "\n",
              "    .dataframe tbody tr th {\n",
              "        vertical-align: top;\n",
              "    }\n",
              "\n",
              "    .dataframe thead th {\n",
              "        text-align: right;\n",
              "    }\n",
              "</style>\n",
              "<table border=\"1\" class=\"dataframe\">\n",
              "  <thead>\n",
              "    <tr style=\"text-align: right;\">\n",
              "      <th></th>\n",
              "      <th>PortfolioName</th>\n",
              "      <th>NumberOfLoans</th>\n",
              "      <th>MeanAnnualizedReturn</th>\n",
              "      <th>Std</th>\n",
              "      <th>Min</th>\n",
              "      <th>Max</th>\n",
              "      <th>SharpeRatio</th>\n",
              "      <th>NumOfLoansFailed</th>\n",
              "      <th>LoansFailedRatio</th>\n",
              "    </tr>\n",
              "  </thead>\n",
              "  <tbody>\n",
              "    <tr>\n",
              "      <th>0</th>\n",
              "      <td>Pagaya</td>\n",
              "      <td>3509</td>\n",
              "      <td>0.0298</td>\n",
              "      <td>0.288784</td>\n",
              "      <td>-1.0</td>\n",
              "      <td>0.445923</td>\n",
              "      <td>0.072722</td>\n",
              "      <td>494</td>\n",
              "      <td>0.140781</td>\n",
              "    </tr>\n",
              "  </tbody>\n",
              "</table>\n",
              "</div>"
            ],
            "text/plain": [
              "  PortfolioName NumberOfLoans  ...  NumOfLoansFailed  LoansFailedRatio\n",
              "0        Pagaya          3509  ...               494          0.140781\n",
              "\n",
              "[1 rows x 9 columns]"
            ]
          },
          "metadata": {
            "tags": []
          },
          "execution_count": 21
        }
      ]
    },
    {
      "cell_type": "markdown",
      "metadata": {
        "id": "vrQXUdMkYoZK",
        "colab_type": "text"
      },
      "source": [
        "# Market portfolio:"
      ]
    },
    {
      "cell_type": "code",
      "metadata": {
        "id": "PXlPAbescJQD",
        "colab_type": "code",
        "colab": {
          "base_uri": "https://localhost:8080/",
          "height": 107
        },
        "outputId": "ae472f3f-0afb-4b4b-b054-730b238d18f9"
      },
      "source": [
        "PortfolioDf=LoanDf\n",
        "NumberOfLoans, MeanAnnualizedReturn, Std, Min, Max, SharpeRatio, NumOfLoansFailed, LoansFailedRatio = CalculateStat(PortfolioDf,Rmarket)\n",
        "CompDf=CompDf.append(pd.Series(['AllLoans_Market',NumberOfLoans, MeanAnnualizedReturn, Std, Min, Max, SharpeRatio, NumOfLoansFailed, LoansFailedRatio], index=CompDf.columns), ignore_index=True)\n",
        "CompDf"
      ],
      "execution_count": 22,
      "outputs": [
        {
          "output_type": "execute_result",
          "data": {
            "text/html": [
              "<div>\n",
              "<style scoped>\n",
              "    .dataframe tbody tr th:only-of-type {\n",
              "        vertical-align: middle;\n",
              "    }\n",
              "\n",
              "    .dataframe tbody tr th {\n",
              "        vertical-align: top;\n",
              "    }\n",
              "\n",
              "    .dataframe thead th {\n",
              "        text-align: right;\n",
              "    }\n",
              "</style>\n",
              "<table border=\"1\" class=\"dataframe\">\n",
              "  <thead>\n",
              "    <tr style=\"text-align: right;\">\n",
              "      <th></th>\n",
              "      <th>PortfolioName</th>\n",
              "      <th>NumberOfLoans</th>\n",
              "      <th>MeanAnnualizedReturn</th>\n",
              "      <th>Std</th>\n",
              "      <th>Min</th>\n",
              "      <th>Max</th>\n",
              "      <th>SharpeRatio</th>\n",
              "      <th>NumOfLoansFailed</th>\n",
              "      <th>LoansFailedRatio</th>\n",
              "    </tr>\n",
              "  </thead>\n",
              "  <tbody>\n",
              "    <tr>\n",
              "      <th>0</th>\n",
              "      <td>Pagaya</td>\n",
              "      <td>3509</td>\n",
              "      <td>0.029800</td>\n",
              "      <td>0.288784</td>\n",
              "      <td>-1.0</td>\n",
              "      <td>0.445923</td>\n",
              "      <td>0.072722</td>\n",
              "      <td>494</td>\n",
              "      <td>0.140781</td>\n",
              "    </tr>\n",
              "    <tr>\n",
              "      <th>1</th>\n",
              "      <td>AllLoans_Market</td>\n",
              "      <td>50733</td>\n",
              "      <td>0.008799</td>\n",
              "      <td>0.313435</td>\n",
              "      <td>-1.0</td>\n",
              "      <td>0.585766</td>\n",
              "      <td>0.000000</td>\n",
              "      <td>8286</td>\n",
              "      <td>0.163326</td>\n",
              "    </tr>\n",
              "  </tbody>\n",
              "</table>\n",
              "</div>"
            ],
            "text/plain": [
              "     PortfolioName NumberOfLoans  ...  NumOfLoansFailed  LoansFailedRatio\n",
              "0           Pagaya          3509  ...               494          0.140781\n",
              "1  AllLoans_Market         50733  ...              8286          0.163326\n",
              "\n",
              "[2 rows x 9 columns]"
            ]
          },
          "metadata": {
            "tags": []
          },
          "execution_count": 22
        }
      ]
    },
    {
      "cell_type": "markdown",
      "metadata": {
        "id": "Tq41bMkZYtbf",
        "colab_type": "text"
      },
      "source": [
        "# HighBorrowerRate portfolio:"
      ]
    },
    {
      "cell_type": "code",
      "metadata": {
        "id": "7W9zPiBXxwga",
        "colab_type": "code",
        "colab": {
          "base_uri": "https://localhost:8080/",
          "height": 137
        },
        "outputId": "46e57e95-6c7b-456f-b94d-94303d4c3969"
      },
      "source": [
        "PortfolioDf=LoanDf[LoanDf['BorrowerRate'] >= 0.146231]\n",
        "NumberOfLoans, MeanAnnualizedReturn, Std, Min, Max, SharpeRatio, NumOfLoansFailed, LoansFailedRatio = CalculateStat(PortfolioDf,Rmarket)\n",
        "CompDf=CompDf.append(pd.Series(['HighBorrowerRate',NumberOfLoans, MeanAnnualizedReturn, Std, Min, Max, SharpeRatio, NumOfLoansFailed, LoansFailedRatio], index=CompDf.columns), ignore_index=True)\n",
        "CompDf"
      ],
      "execution_count": 23,
      "outputs": [
        {
          "output_type": "execute_result",
          "data": {
            "text/html": [
              "<div>\n",
              "<style scoped>\n",
              "    .dataframe tbody tr th:only-of-type {\n",
              "        vertical-align: middle;\n",
              "    }\n",
              "\n",
              "    .dataframe tbody tr th {\n",
              "        vertical-align: top;\n",
              "    }\n",
              "\n",
              "    .dataframe thead th {\n",
              "        text-align: right;\n",
              "    }\n",
              "</style>\n",
              "<table border=\"1\" class=\"dataframe\">\n",
              "  <thead>\n",
              "    <tr style=\"text-align: right;\">\n",
              "      <th></th>\n",
              "      <th>PortfolioName</th>\n",
              "      <th>NumberOfLoans</th>\n",
              "      <th>MeanAnnualizedReturn</th>\n",
              "      <th>Std</th>\n",
              "      <th>Min</th>\n",
              "      <th>Max</th>\n",
              "      <th>SharpeRatio</th>\n",
              "      <th>NumOfLoansFailed</th>\n",
              "      <th>LoansFailedRatio</th>\n",
              "    </tr>\n",
              "  </thead>\n",
              "  <tbody>\n",
              "    <tr>\n",
              "      <th>0</th>\n",
              "      <td>Pagaya</td>\n",
              "      <td>3509</td>\n",
              "      <td>0.029800</td>\n",
              "      <td>0.288784</td>\n",
              "      <td>-1.0</td>\n",
              "      <td>0.445923</td>\n",
              "      <td>0.072722</td>\n",
              "      <td>494</td>\n",
              "      <td>0.140781</td>\n",
              "    </tr>\n",
              "    <tr>\n",
              "      <th>1</th>\n",
              "      <td>AllLoans_Market</td>\n",
              "      <td>50733</td>\n",
              "      <td>0.008799</td>\n",
              "      <td>0.313435</td>\n",
              "      <td>-1.0</td>\n",
              "      <td>0.585766</td>\n",
              "      <td>0.000000</td>\n",
              "      <td>8286</td>\n",
              "      <td>0.163326</td>\n",
              "    </tr>\n",
              "    <tr>\n",
              "      <th>2</th>\n",
              "      <td>HighBorrowerRate</td>\n",
              "      <td>16456</td>\n",
              "      <td>-0.008886</td>\n",
              "      <td>0.417952</td>\n",
              "      <td>-1.0</td>\n",
              "      <td>0.585766</td>\n",
              "      <td>-0.042313</td>\n",
              "      <td>4360</td>\n",
              "      <td>0.264949</td>\n",
              "    </tr>\n",
              "  </tbody>\n",
              "</table>\n",
              "</div>"
            ],
            "text/plain": [
              "      PortfolioName NumberOfLoans  ...  NumOfLoansFailed  LoansFailedRatio\n",
              "0            Pagaya          3509  ...               494          0.140781\n",
              "1   AllLoans_Market         50733  ...              8286          0.163326\n",
              "2  HighBorrowerRate         16456  ...              4360          0.264949\n",
              "\n",
              "[3 rows x 9 columns]"
            ]
          },
          "metadata": {
            "tags": []
          },
          "execution_count": 23
        }
      ]
    },
    {
      "cell_type": "markdown",
      "metadata": {
        "id": "cM4Ma2SjYyUM",
        "colab_type": "text"
      },
      "source": [
        "# LowBorrowerRate portfolio:"
      ]
    },
    {
      "cell_type": "code",
      "metadata": {
        "id": "eKG6OPRLcpDN",
        "colab_type": "code",
        "colab": {
          "base_uri": "https://localhost:8080/",
          "height": 167
        },
        "outputId": "f60bb3db-0b43-4e2f-ece2-568b01c580ee"
      },
      "source": [
        "PortfolioDf=LoanDf[LoanDf['BorrowerRate'] <= 0.068895]\n",
        "NumberOfLoans, MeanAnnualizedReturn, Std, Min, Max, SharpeRatio, NumOfLoansFailed, LoansFailedRatio = CalculateStat(PortfolioDf,Rmarket)\n",
        "CompDf=CompDf.append(pd.Series(['LowBorrowerRate',NumberOfLoans, MeanAnnualizedReturn, Std, Min, Max, SharpeRatio, NumOfLoansFailed, LoansFailedRatio], index=CompDf.columns), ignore_index=True)\n",
        "CompDf"
      ],
      "execution_count": 24,
      "outputs": [
        {
          "output_type": "execute_result",
          "data": {
            "text/html": [
              "<div>\n",
              "<style scoped>\n",
              "    .dataframe tbody tr th:only-of-type {\n",
              "        vertical-align: middle;\n",
              "    }\n",
              "\n",
              "    .dataframe tbody tr th {\n",
              "        vertical-align: top;\n",
              "    }\n",
              "\n",
              "    .dataframe thead th {\n",
              "        text-align: right;\n",
              "    }\n",
              "</style>\n",
              "<table border=\"1\" class=\"dataframe\">\n",
              "  <thead>\n",
              "    <tr style=\"text-align: right;\">\n",
              "      <th></th>\n",
              "      <th>PortfolioName</th>\n",
              "      <th>NumberOfLoans</th>\n",
              "      <th>MeanAnnualizedReturn</th>\n",
              "      <th>Std</th>\n",
              "      <th>Min</th>\n",
              "      <th>Max</th>\n",
              "      <th>SharpeRatio</th>\n",
              "      <th>NumOfLoansFailed</th>\n",
              "      <th>LoansFailedRatio</th>\n",
              "    </tr>\n",
              "  </thead>\n",
              "  <tbody>\n",
              "    <tr>\n",
              "      <th>0</th>\n",
              "      <td>Pagaya</td>\n",
              "      <td>3509</td>\n",
              "      <td>0.029800</td>\n",
              "      <td>0.288784</td>\n",
              "      <td>-1.0</td>\n",
              "      <td>0.445923</td>\n",
              "      <td>0.072722</td>\n",
              "      <td>494</td>\n",
              "      <td>0.140781</td>\n",
              "    </tr>\n",
              "    <tr>\n",
              "      <th>1</th>\n",
              "      <td>AllLoans_Market</td>\n",
              "      <td>50733</td>\n",
              "      <td>0.008799</td>\n",
              "      <td>0.313435</td>\n",
              "      <td>-1.0</td>\n",
              "      <td>0.585766</td>\n",
              "      <td>0.000000</td>\n",
              "      <td>8286</td>\n",
              "      <td>0.163326</td>\n",
              "    </tr>\n",
              "    <tr>\n",
              "      <th>2</th>\n",
              "      <td>HighBorrowerRate</td>\n",
              "      <td>16456</td>\n",
              "      <td>-0.008886</td>\n",
              "      <td>0.417952</td>\n",
              "      <td>-1.0</td>\n",
              "      <td>0.585766</td>\n",
              "      <td>-0.042313</td>\n",
              "      <td>4360</td>\n",
              "      <td>0.264949</td>\n",
              "    </tr>\n",
              "    <tr>\n",
              "      <th>3</th>\n",
              "      <td>LowBorrowerRate</td>\n",
              "      <td>3390</td>\n",
              "      <td>0.039478</td>\n",
              "      <td>0.125384</td>\n",
              "      <td>-1.0</td>\n",
              "      <td>0.096623</td>\n",
              "      <td>0.244679</td>\n",
              "      <td>114</td>\n",
              "      <td>0.033628</td>\n",
              "    </tr>\n",
              "  </tbody>\n",
              "</table>\n",
              "</div>"
            ],
            "text/plain": [
              "      PortfolioName NumberOfLoans  ...  NumOfLoansFailed  LoansFailedRatio\n",
              "0            Pagaya          3509  ...               494          0.140781\n",
              "1   AllLoans_Market         50733  ...              8286          0.163326\n",
              "2  HighBorrowerRate         16456  ...              4360          0.264949\n",
              "3   LowBorrowerRate          3390  ...               114          0.033628\n",
              "\n",
              "[4 rows x 9 columns]"
            ]
          },
          "metadata": {
            "tags": []
          },
          "execution_count": 24
        }
      ]
    },
    {
      "cell_type": "markdown",
      "metadata": {
        "id": "A-_N_fnnY9FG",
        "colab_type": "text"
      },
      "source": [
        ""
      ]
    },
    {
      "cell_type": "code",
      "metadata": {
        "id": "fFuVf5xaenNt",
        "colab_type": "code",
        "colab": {
          "base_uri": "https://localhost:8080/",
          "height": 197
        },
        "outputId": "df1593f7-edf2-4e38-e4fd-ab23d7a616cf"
      },
      "source": [
        "PortfolioDf=LoanDf.sample(frac = 0.5) \n",
        "NumberOfLoans, MeanAnnualizedReturn, Std, Min, Max, SharpeRatio, NumOfLoansFailed, LoansFailedRatio = CalculateStat(PortfolioDf,Rmarket)\n",
        "CompDf=CompDf.append(pd.Series(['Random50%',NumberOfLoans, MeanAnnualizedReturn, Std, Min, Max, SharpeRatio, NumOfLoansFailed, LoansFailedRatio], index=CompDf.columns), ignore_index=True)\n",
        "CompDf\n"
      ],
      "execution_count": 25,
      "outputs": [
        {
          "output_type": "execute_result",
          "data": {
            "text/html": [
              "<div>\n",
              "<style scoped>\n",
              "    .dataframe tbody tr th:only-of-type {\n",
              "        vertical-align: middle;\n",
              "    }\n",
              "\n",
              "    .dataframe tbody tr th {\n",
              "        vertical-align: top;\n",
              "    }\n",
              "\n",
              "    .dataframe thead th {\n",
              "        text-align: right;\n",
              "    }\n",
              "</style>\n",
              "<table border=\"1\" class=\"dataframe\">\n",
              "  <thead>\n",
              "    <tr style=\"text-align: right;\">\n",
              "      <th></th>\n",
              "      <th>PortfolioName</th>\n",
              "      <th>NumberOfLoans</th>\n",
              "      <th>MeanAnnualizedReturn</th>\n",
              "      <th>Std</th>\n",
              "      <th>Min</th>\n",
              "      <th>Max</th>\n",
              "      <th>SharpeRatio</th>\n",
              "      <th>NumOfLoansFailed</th>\n",
              "      <th>LoansFailedRatio</th>\n",
              "    </tr>\n",
              "  </thead>\n",
              "  <tbody>\n",
              "    <tr>\n",
              "      <th>0</th>\n",
              "      <td>Pagaya</td>\n",
              "      <td>3509</td>\n",
              "      <td>0.029800</td>\n",
              "      <td>0.288784</td>\n",
              "      <td>-1.0</td>\n",
              "      <td>0.445923</td>\n",
              "      <td>0.072722</td>\n",
              "      <td>494</td>\n",
              "      <td>0.140781</td>\n",
              "    </tr>\n",
              "    <tr>\n",
              "      <th>1</th>\n",
              "      <td>AllLoans_Market</td>\n",
              "      <td>50733</td>\n",
              "      <td>0.008799</td>\n",
              "      <td>0.313435</td>\n",
              "      <td>-1.0</td>\n",
              "      <td>0.585766</td>\n",
              "      <td>0.000000</td>\n",
              "      <td>8286</td>\n",
              "      <td>0.163326</td>\n",
              "    </tr>\n",
              "    <tr>\n",
              "      <th>2</th>\n",
              "      <td>HighBorrowerRate</td>\n",
              "      <td>16456</td>\n",
              "      <td>-0.008886</td>\n",
              "      <td>0.417952</td>\n",
              "      <td>-1.0</td>\n",
              "      <td>0.585766</td>\n",
              "      <td>-0.042313</td>\n",
              "      <td>4360</td>\n",
              "      <td>0.264949</td>\n",
              "    </tr>\n",
              "    <tr>\n",
              "      <th>3</th>\n",
              "      <td>LowBorrowerRate</td>\n",
              "      <td>3390</td>\n",
              "      <td>0.039478</td>\n",
              "      <td>0.125384</td>\n",
              "      <td>-1.0</td>\n",
              "      <td>0.096623</td>\n",
              "      <td>0.244679</td>\n",
              "      <td>114</td>\n",
              "      <td>0.033628</td>\n",
              "    </tr>\n",
              "    <tr>\n",
              "      <th>4</th>\n",
              "      <td>Random50%</td>\n",
              "      <td>25366</td>\n",
              "      <td>0.012207</td>\n",
              "      <td>0.309287</td>\n",
              "      <td>-1.0</td>\n",
              "      <td>0.585766</td>\n",
              "      <td>0.011018</td>\n",
              "      <td>4083</td>\n",
              "      <td>0.160963</td>\n",
              "    </tr>\n",
              "  </tbody>\n",
              "</table>\n",
              "</div>"
            ],
            "text/plain": [
              "      PortfolioName NumberOfLoans  ...  NumOfLoansFailed  LoansFailedRatio\n",
              "0            Pagaya          3509  ...               494          0.140781\n",
              "1   AllLoans_Market         50733  ...              8286          0.163326\n",
              "2  HighBorrowerRate         16456  ...              4360          0.264949\n",
              "3   LowBorrowerRate          3390  ...               114          0.033628\n",
              "4         Random50%         25366  ...              4083          0.160963\n",
              "\n",
              "[5 rows x 9 columns]"
            ]
          },
          "metadata": {
            "tags": []
          },
          "execution_count": 25
        }
      ]
    },
    {
      "cell_type": "markdown",
      "metadata": {
        "id": "clM6CB3HZLyv",
        "colab_type": "text"
      },
      "source": [
        "# Random50% portfolio:"
      ]
    },
    {
      "cell_type": "code",
      "metadata": {
        "id": "uH2mt9Jue9LP",
        "colab_type": "code",
        "colab": {
          "base_uri": "https://localhost:8080/",
          "height": 227
        },
        "outputId": "1505d31a-676a-44bd-9fa3-4cb09a29902a"
      },
      "source": [
        "PortfolioDf=LoanDf.sample(frac = 0.1) \n",
        "NumberOfLoans, MeanAnnualizedReturn, Std, Min, Max, SharpeRatio, NumOfLoansFailed, LoansFailedRatio = CalculateStat(PortfolioDf,Rmarket)\n",
        "CompDf=CompDf.append(pd.Series(['Random10%',NumberOfLoans, MeanAnnualizedReturn, Std, Min, Max, SharpeRatio, NumOfLoansFailed, LoansFailedRatio], index=CompDf.columns), ignore_index=True)\n",
        "CompDf"
      ],
      "execution_count": 26,
      "outputs": [
        {
          "output_type": "execute_result",
          "data": {
            "text/html": [
              "<div>\n",
              "<style scoped>\n",
              "    .dataframe tbody tr th:only-of-type {\n",
              "        vertical-align: middle;\n",
              "    }\n",
              "\n",
              "    .dataframe tbody tr th {\n",
              "        vertical-align: top;\n",
              "    }\n",
              "\n",
              "    .dataframe thead th {\n",
              "        text-align: right;\n",
              "    }\n",
              "</style>\n",
              "<table border=\"1\" class=\"dataframe\">\n",
              "  <thead>\n",
              "    <tr style=\"text-align: right;\">\n",
              "      <th></th>\n",
              "      <th>PortfolioName</th>\n",
              "      <th>NumberOfLoans</th>\n",
              "      <th>MeanAnnualizedReturn</th>\n",
              "      <th>Std</th>\n",
              "      <th>Min</th>\n",
              "      <th>Max</th>\n",
              "      <th>SharpeRatio</th>\n",
              "      <th>NumOfLoansFailed</th>\n",
              "      <th>LoansFailedRatio</th>\n",
              "    </tr>\n",
              "  </thead>\n",
              "  <tbody>\n",
              "    <tr>\n",
              "      <th>0</th>\n",
              "      <td>Pagaya</td>\n",
              "      <td>3509</td>\n",
              "      <td>0.029800</td>\n",
              "      <td>0.288784</td>\n",
              "      <td>-1.0</td>\n",
              "      <td>0.445923</td>\n",
              "      <td>0.072722</td>\n",
              "      <td>494</td>\n",
              "      <td>0.140781</td>\n",
              "    </tr>\n",
              "    <tr>\n",
              "      <th>1</th>\n",
              "      <td>AllLoans_Market</td>\n",
              "      <td>50733</td>\n",
              "      <td>0.008799</td>\n",
              "      <td>0.313435</td>\n",
              "      <td>-1.0</td>\n",
              "      <td>0.585766</td>\n",
              "      <td>0.000000</td>\n",
              "      <td>8286</td>\n",
              "      <td>0.163326</td>\n",
              "    </tr>\n",
              "    <tr>\n",
              "      <th>2</th>\n",
              "      <td>HighBorrowerRate</td>\n",
              "      <td>16456</td>\n",
              "      <td>-0.008886</td>\n",
              "      <td>0.417952</td>\n",
              "      <td>-1.0</td>\n",
              "      <td>0.585766</td>\n",
              "      <td>-0.042313</td>\n",
              "      <td>4360</td>\n",
              "      <td>0.264949</td>\n",
              "    </tr>\n",
              "    <tr>\n",
              "      <th>3</th>\n",
              "      <td>LowBorrowerRate</td>\n",
              "      <td>3390</td>\n",
              "      <td>0.039478</td>\n",
              "      <td>0.125384</td>\n",
              "      <td>-1.0</td>\n",
              "      <td>0.096623</td>\n",
              "      <td>0.244679</td>\n",
              "      <td>114</td>\n",
              "      <td>0.033628</td>\n",
              "    </tr>\n",
              "    <tr>\n",
              "      <th>4</th>\n",
              "      <td>Random50%</td>\n",
              "      <td>25366</td>\n",
              "      <td>0.012207</td>\n",
              "      <td>0.309287</td>\n",
              "      <td>-1.0</td>\n",
              "      <td>0.585766</td>\n",
              "      <td>0.011018</td>\n",
              "      <td>4083</td>\n",
              "      <td>0.160963</td>\n",
              "    </tr>\n",
              "    <tr>\n",
              "      <th>5</th>\n",
              "      <td>Random10%</td>\n",
              "      <td>5073</td>\n",
              "      <td>0.009727</td>\n",
              "      <td>0.309650</td>\n",
              "      <td>-1.0</td>\n",
              "      <td>0.377685</td>\n",
              "      <td>0.002997</td>\n",
              "      <td>838</td>\n",
              "      <td>0.165188</td>\n",
              "    </tr>\n",
              "  </tbody>\n",
              "</table>\n",
              "</div>"
            ],
            "text/plain": [
              "      PortfolioName NumberOfLoans  ...  NumOfLoansFailed  LoansFailedRatio\n",
              "0            Pagaya          3509  ...               494          0.140781\n",
              "1   AllLoans_Market         50733  ...              8286          0.163326\n",
              "2  HighBorrowerRate         16456  ...              4360          0.264949\n",
              "3   LowBorrowerRate          3390  ...               114          0.033628\n",
              "4         Random50%         25366  ...              4083          0.160963\n",
              "5         Random10%          5073  ...               838          0.165188\n",
              "\n",
              "[6 rows x 9 columns]"
            ]
          },
          "metadata": {
            "tags": []
          },
          "execution_count": 26
        }
      ]
    },
    {
      "cell_type": "markdown",
      "metadata": {
        "id": "VSTgrl9WZRgE",
        "colab_type": "text"
      },
      "source": [
        "# Analyzing the results of the comperison table with charts\n",
        "Lets start with the average yield of the portfolios:"
      ]
    },
    {
      "cell_type": "code",
      "metadata": {
        "id": "FekKKHRJfVxA",
        "colab_type": "code",
        "colab": {
          "base_uri": "https://localhost:8080/",
          "height": 427
        },
        "outputId": "6d9432dc-c71f-43f4-e1f6-67bdcd0bc5a9"
      },
      "source": [
        "plt.figure(figsize = (20,6))\n",
        "sns.barplot(x=\"PortfolioName\", y=\"MeanAnnualizedReturn\", data=CompDf)\n",
        "plt.title(\"Comparison of the average yield of loan portfolios\", fontsize=20)"
      ],
      "execution_count": 27,
      "outputs": [
        {
          "output_type": "execute_result",
          "data": {
            "text/plain": [
              "Text(0.5, 1.0, 'Comparison of the average yield of loan portfolios')"
            ]
          },
          "metadata": {
            "tags": []
          },
          "execution_count": 27
        },
        {
          "output_type": "display_data",
          "data": {
            "image/png": "[encoded data removed]",
            "text/plain": [
              "<Figure size 1440x432 with 1 Axes>"
            ]
          },
          "metadata": {
            "tags": [],
            "needs_background": "light"
          }
        }
      ]
    },
    {
      "cell_type": "markdown",
      "metadata": {
        "id": "wcMvysfOaPVY",
        "colab_type": "text"
      },
      "source": [
        "**As we can see, Pagaya's portfolio beats the market**"
      ]
    },
    {
      "cell_type": "markdown",
      "metadata": {
        "id": "A9v8CGs_aqAI",
        "colab_type": "text"
      },
      "source": [
        "Next, ploting the standard deviation:"
      ]
    },
    {
      "cell_type": "code",
      "metadata": {
        "id": "gmfOCxjRiGBF",
        "colab_type": "code",
        "colab": {
          "base_uri": "https://localhost:8080/",
          "height": 427
        },
        "outputId": "243a1ebd-bbdf-4de7-944b-5f7f6b194693"
      },
      "source": [
        "plt.figure(figsize = (20,6))\n",
        "sns.barplot(x=\"PortfolioName\", y=\"Std\", data=CompDf)\n",
        "plt.title(\"Comparison of the Risks (STD) of loan portfolios\", fontsize=20)"
      ],
      "execution_count": 28,
      "outputs": [
        {
          "output_type": "execute_result",
          "data": {
            "text/plain": [
              "Text(0.5, 1.0, 'Comparison of the Risks (STD) of loan portfolios')"
            ]
          },
          "metadata": {
            "tags": []
          },
          "execution_count": 28
        },
        {
          "output_type": "display_data",
          "data": {
            "image/png": "[encoded data removed]",
            "text/plain": [
              "<Figure size 1440x432 with 1 Axes>"
            ]
          },
          "metadata": {
            "tags": [],
            "needs_background": "light"
          }
        }
      ]
    },
    {
      "cell_type": "markdown",
      "metadata": {
        "id": "YVnhIRlna2DV",
        "colab_type": "text"
      },
      "source": [
        "**Pagaya's portfolio with lower risks then the market (less volatile)**\n",
        "\n",
        "Next, ploting the sharpe ratio, the ratio between the Mean Annualized return and the STD.\n",
        "\n",
        "(The Sharpe ratio was calculated relative to the excess return on the market)"
      ]
    },
    {
      "cell_type": "code",
      "metadata": {
        "id": "E9cyCLirvAP1",
        "colab_type": "code",
        "colab": {
          "base_uri": "https://localhost:8080/",
          "height": 427
        },
        "outputId": "88be484c-195b-4af3-bee8-30c05e279ed3"
      },
      "source": [
        "plt.figure(figsize = (20,6))\n",
        "sns.barplot(x=\"PortfolioName\", y=\"SharpeRatio\", data=CompDf)\n",
        "plt.title(\"Comparison of the Sharpe Ratio of loan portfolios\", fontsize=20)"
      ],
      "execution_count": 29,
      "outputs": [
        {
          "output_type": "execute_result",
          "data": {
            "text/plain": [
              "Text(0.5, 1.0, 'Comparison of the Sharpe Ratio of loan portfolios')"
            ]
          },
          "metadata": {
            "tags": []
          },
          "execution_count": 29
        },
        {
          "output_type": "display_data",
          "data": {
            "image/png": "[encoded data removed]",
            "text/plain": [
              "<Figure size 1440x432 with 1 Axes>"
            ]
          },
          "metadata": {
            "tags": [],
            "needs_background": "light"
          }
        }
      ]
    },
    {
      "cell_type": "markdown",
      "metadata": {
        "id": "nPmkSWO3cP0u",
        "colab_type": "text"
      },
      "source": [
        "**Another point of view to compare the portfolios.**\n",
        "\n",
        "The next plot will present the ratio between Loans that failed of loan portfolios:"
      ]
    },
    {
      "cell_type": "code",
      "metadata": {
        "id": "EssS6TWQvUnm",
        "colab_type": "code",
        "colab": {
          "base_uri": "https://localhost:8080/",
          "height": 427
        },
        "outputId": "9e61b733-64ed-4db9-d4d9-bbde2c4cfd04"
      },
      "source": [
        "plt.figure(figsize = (20,6))\n",
        "sns.barplot(x=\"PortfolioName\", y=\"LoansFailedRatio\", data=CompDf)\n",
        "plt.title(\"Comparison of the Ratio between Loans that failed of loan portfolios\", fontsize=20)"
      ],
      "execution_count": 30,
      "outputs": [
        {
          "output_type": "execute_result",
          "data": {
            "text/plain": [
              "Text(0.5, 1.0, 'Comparison of the Ratio between Loans that failed of loan portfolios')"
            ]
          },
          "metadata": {
            "tags": []
          },
          "execution_count": 30
        },
        {
          "output_type": "display_data",
          "data": {
            "image/png": "[encoded data removed]",
            "text/plain": [
              "<Figure size 1440x432 with 1 Axes>"
            ]
          },
          "metadata": {
            "tags": [],
            "needs_background": "light"
          }
        }
      ]
    },
    {
      "cell_type": "markdown",
      "metadata": {
        "id": "a0dzdM8wdBw-",
        "colab_type": "text"
      },
      "source": [
        "**As we can see, This feature has a significant impact on the returns.When the number of loans that failed was lower, the returns was the highest.(It makes sense).**"
      ]
    },
    {
      "cell_type": "markdown",
      "metadata": {
        "id": "0R2pfOOFfQ_W",
        "colab_type": "text"
      },
      "source": [
        "# Conclusion\n",
        "\n",
        "**On the bottom line, Pagaya's Portfolio beats the Market**\n",
        "\n",
        "There are some insights:\n",
        "\n",
        "*   Pagaya choose loans with higher returns and less risks then invest on the market or choose randomly portfolios.\n",
        "*   Pagaya choose loans to buy with a good probability that the loan will not fail.\n",
        "*   The baseline of building portfolio by the lowest Borrower Rates Got the best results.\n",
        "\n",
        "*   There are more steps that could be done to confirm this results:\n",
        " *   Statistically examine the selected portfolio against the market portfolio.\n",
        " *   Examine the Portfolio with a longer historical data.\n",
        "\n",
        "* **The most important resource investment has to be on Predicting if loan will failed**\n",
        "\n"
      ]
    }
  ]
}